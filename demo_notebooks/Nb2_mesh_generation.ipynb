{
 "cells": [
  {
   "cell_type": "markdown",
   "metadata": {},
   "source": [
    "## Step 2: SPDE Mesh Generation\n",
    "\n",
    "This notebook demonstrates mesh generation for SPDE approximations, building on the coordinate preprocessing demo."
   ]
  },
  {
   "cell_type": "markdown",
   "metadata": {},
   "source": [
    "#### Libraries"
   ]
  },
  {
   "cell_type": "code",
   "execution_count": null,
   "metadata": {},
   "outputs": [],
   "source": [
    "import os\n",
    "import sys\n",
    "from pathlib import Path\n",
    "import numpy as np\n",
    "import pandas as pd\n",
    "import geopandas as gpd\n",
    "from plotnine import *\n",
    "\n",
    "from geo_spde.coords import preprocess_coords\n",
    "from geo_spde.mesh import SPDEMesh\n",
    "from geo_spde.exceptions import CoordsError, MeshError"
   ]
  },
  {
   "cell_type": "markdown",
   "metadata": {},
   "source": [
    "#### Load PM2.5 Data\n",
    "\n",
    "Using the same North America PM2.5 ground monitor measurements"
   ]
  },
  {
   "cell_type": "code",
   "execution_count": null,
   "metadata": {},
   "outputs": [],
   "source": [
    "pm25 = pd.read_csv('north_america_pm25.csv')\n",
    "print(f\"Loaded {len(pm25)} ground monitor observations\")\n",
    "pm25.head()"
   ]
  },
  {
   "cell_type": "markdown",
   "metadata": {},
   "source": [
    "#### Step 1: Preprocess Coordinates\n",
    "\n",
    "Using the enhanced preprocessing with duplicate detection"
   ]
  },
  {
   "cell_type": "code",
   "execution_count": null,
   "metadata": {},
   "outputs": [],
   "source": [
    "# Extract coordinates\n",
    "pm25_coords = pm25[['Longitude','Latitude']].to_numpy()\n",
    "\n",
    "# Preprocess with duplicate checking (not removing)\n",
    "clean_coords, indices, proj_info = preprocess_coords(\n",
    "    pm25_coords, \n",
    "    remove_duplicates=True  # Keep all points, just warn about close ones\n",
    ")"
   ]
  },
  {
   "cell_type": "code",
   "execution_count": null,
   "metadata": {},
   "outputs": [],
   "source": [
    "# Check if any close points were found\n",
    "if 'close_points' in proj_info:\n",
    "    print(f\"\\nFound {len(proj_info['close_points'])} pairs of close coordinates\")\n",
    "    for i, cp in enumerate(proj_info['close_points'][:5]):  # Show first 5\n",
    "        print(f\"  Points {cp['indices']}: {cp['distance']:.3f}m apart\")\n",
    "    if len(proj_info['close_points']) > 5:\n",
    "        print(f\"  ... and {len(proj_info['close_points'])-5} more\")\n",
    "else:\n",
    "    print(f\"no close points\")"
   ]
  },
  {
   "cell_type": "markdown",
   "metadata": {},
   "source": [
    "#### Step 2: Generate SPDE Mesh\n",
    "\n",
    "Create triangular mesh with data-adaptive parameters"
   ]
  },
  {
   "cell_type": "code",
   "execution_count": null,
   "metadata": {},
   "outputs": [],
   "source": [
    "# Create mesh generator\n",
    "mesh = SPDEMesh(clean_coords, proj_info)\n",
    "\n",
    "# Generate mesh with default parameters\n",
    "vertices, triangles = mesh.create_mesh(\n",
    "    extension_factor=0.2,     # 20% boundary extension\n",
    "    target_edge_factor=0.5,   # Edge length = 50% of median observation distance\n",
    "    min_angle=20.0,          # Minimum triangle angle\n",
    "    verbose=True\n",
    ")"
   ]
  },
  {
   "cell_type": "code",
   "execution_count": null,
   "metadata": {},
   "outputs": [],
   "source": [
    "# Get detailed mesh information\n",
    "mesh_info = mesh.get_mesh_info()\n",
    "print(f\"\\nMesh parameters:\")\n",
    "for key, value in mesh_info['mesh_params'].items():\n",
    "    if isinstance(value, float):\n",
    "        print(f\"  {key}: {value:.3f}\")\n",
    "    else:\n",
    "        print(f\"  {key}: {value}\")"
   ]
  },
  {
   "cell_type": "markdown",
   "metadata": {},
   "source": [
    "#### Visualize Mesh Structure\n",
    "\n",
    "Create DataFrame for plotting mesh triangles"
   ]
  },
  {
   "cell_type": "code",
   "execution_count": null,
   "metadata": {},
   "outputs": [],
   "source": [
    "# Create edge list from triangles for plotting\n",
    "edges = []\n",
    "for tri in triangles:\n",
    "    # Each triangle has 3 edges\n",
    "    edges.append([tri[0], tri[1]])\n",
    "    edges.append([tri[1], tri[2]])\n",
    "    edges.append([tri[2], tri[0]])\n",
    "\n",
    "# Remove duplicate edges\n",
    "edges = np.array(edges)\n",
    "edges = np.unique(np.sort(edges, axis=1), axis=0)\n",
    "\n",
    "print(f\"Mesh has {len(edges)} unique edges\")"
   ]
  },
  {
   "cell_type": "code",
   "execution_count": null,
   "metadata": {},
   "outputs": [],
   "source": [
    "# Create DataFrame for edges\n",
    "edge_df = []\n",
    "for edge in edges:\n",
    "    v1, v2 = edge\n",
    "    edge_df.append({\n",
    "        'x': vertices[v1, 0],\n",
    "        'y': vertices[v1, 1],\n",
    "        'xend': vertices[v2, 0],\n",
    "        'yend': vertices[v2, 1]\n",
    "    })\n",
    "edge_df = pd.DataFrame(edge_df)\n",
    "\n",
    "# Create DataFrame for vertices\n",
    "vertex_df = pd.DataFrame({\n",
    "    'x': vertices[:, 0],\n",
    "    'y': vertices[:, 1],\n",
    "    'type': ['observation' if i < len(clean_coords) else 'mesh' \n",
    "             for i in range(len(vertices))]\n",
    "})\n",
    "\n",
    "# Create DataFrame for observations\n",
    "obs_df = pd.DataFrame({\n",
    "    'x': clean_coords[:, 0],\n",
    "    'y': clean_coords[:, 1],\n",
    "    'PM25': pm25['PM25'].iloc[indices].values\n",
    "})"
   ]
  },
  {
   "cell_type": "markdown",
   "metadata": {},
   "source": [
    "#### Plot 1: Full Mesh Structure"
   ]
  },
  {
   "cell_type": "code",
   "execution_count": null,
   "metadata": {},
   "outputs": [],
   "source": [
    "# Plot full mesh\n",
    "p_mesh = (ggplot() +\n",
    "    # Mesh edges\n",
    "    geom_segment(data=edge_df,\n",
    "                 mapping=aes(x='x', y='y', xend='xend', yend='yend'),\n",
    "                 color='gray', alpha=0.3, size=0.1) +\n",
    "    # Observation points\n",
    "    geom_point(data=obs_df,\n",
    "               mapping=aes(x='x', y='y', color='PM25'),\n",
    "               size=0.5) +\n",
    "    scale_color_gradient2(low='blue', mid='lightgreen', high='darkorange',\n",
    "                         midpoint=1.5, name='PM2.5') +\n",
    "    theme_minimal() +\n",
    "    labs(title=\"SPDE Mesh with PM2.5 Observations\",\n",
    "         x=\"Easting (m)\", y=\"Northing (m)\") +\n",
    "    coord_fixed())\n",
    "\n",
    "p_mesh"
   ]
  },
  {
   "cell_type": "markdown",
   "metadata": {},
   "source": [
    "#### Plot 2: Zoomed View of Mesh Detail\n",
    "\n",
    "Let's zoom in on a smaller region to see mesh structure better"
   ]
  },
  {
   "cell_type": "code",
   "execution_count": null,
   "metadata": {},
   "outputs": [],
   "source": [
    "# Find a region with good observation density\n",
    "x_center = np.median(clean_coords[:, 0])\n",
    "y_center = np.median(clean_coords[:, 1])\n",
    "zoom_range = 5e5  # 500 km\n",
    "\n",
    "# Filter data for zoomed region\n",
    "zoom_mask_edges = (\n",
    "    (edge_df['x'] >= x_center - zoom_range) & \n",
    "    (edge_df['x'] <= x_center + zoom_range) &\n",
    "    (edge_df['y'] >= y_center - zoom_range) & \n",
    "    (edge_df['y'] <= y_center + zoom_range) &\n",
    "    (edge_df['xend'] >= x_center - zoom_range) & \n",
    "    (edge_df['xend'] <= x_center + zoom_range) &\n",
    "    (edge_df['yend'] >= y_center - zoom_range) & \n",
    "    (edge_df['yend'] <= y_center + zoom_range)\n",
    ")\n",
    "\n",
    "zoom_mask_obs = (\n",
    "    (obs_df['x'] >= x_center - zoom_range) & \n",
    "    (obs_df['x'] <= x_center + zoom_range) &\n",
    "    (obs_df['y'] >= y_center - zoom_range) & \n",
    "    (obs_df['y'] <= y_center + zoom_range)\n",
    ")\n",
    "\n",
    "zoom_mask_vertices = (\n",
    "    (vertex_df['x'] >= x_center - zoom_range) & \n",
    "    (vertex_df['x'] <= x_center + zoom_range) &\n",
    "    (vertex_df['y'] >= y_center - zoom_range) & \n",
    "    (vertex_df['y'] <= y_center + zoom_range)\n",
    ")"
   ]
  },
  {
   "cell_type": "code",
   "execution_count": null,
   "metadata": {},
   "outputs": [],
   "source": [
    "# Plot zoomed mesh\n",
    "p_zoom = (ggplot() +\n",
    "    # Mesh edges\n",
    "    geom_segment(data=edge_df[zoom_mask_edges],\n",
    "                 mapping=aes(x='x', y='y', xend='xend', yend='yend'),\n",
    "                 color='gray', alpha=0.5, size=0.2) +\n",
    "    # Mesh vertices (not observations)\n",
    "    geom_point(data=vertex_df[zoom_mask_vertices & (vertex_df['type'] == 'mesh')],\n",
    "               mapping=aes(x='x', y='y'),\n",
    "               color='lightgray', size=0.3, alpha=0.5) +\n",
    "    # Observation points\n",
    "    geom_point(data=obs_df[zoom_mask_obs],\n",
    "               mapping=aes(x='x', y='y', color='PM25'),\n",
    "               size=1.5) +\n",
    "    scale_color_gradient2(low='blue', mid='lightgreen', high='darkorange',\n",
    "                         midpoint=2.0, name='PM2.5') +\n",
    "    theme_minimal() +\n",
    "    labs(title=\"SPDE Mesh Detail (Zoomed View)\",\n",
    "         subtitle=f\"Showing {zoom_mask_obs.sum()} observations\",\n",
    "         x=\"Easting (m)\", y=\"Northing (m)\") +\n",
    "    coord_fixed() +\n",
    "    xlim(x_center - zoom_range, x_center + zoom_range) +\n",
    "    ylim(y_center - zoom_range, y_center + zoom_range))\n",
    "\n",
    "p_zoom"
   ]
  },
  {
   "cell_type": "markdown",
   "metadata": {},
   "source": [
    "#### Mesh Quality Analysis"
   ]
  },
  {
   "cell_type": "code",
   "execution_count": null,
   "metadata": {},
   "outputs": [],
   "source": [
    "# Compute triangle quality metrics\n",
    "triangle_areas = []\n",
    "triangle_angles = []\n",
    "\n",
    "for tri in triangles:\n",
    "    v0, v1, v2 = vertices[tri]\n",
    "    \n",
    "    # Compute area\n",
    "    area = 0.5 * abs((v1[0] - v0[0]) * (v2[1] - v0[1]) - \n",
    "                     (v2[0] - v0[0]) * (v1[1] - v0[1]))\n",
    "    triangle_areas.append(area)\n",
    "    \n",
    "    # Compute angles\n",
    "    edges = np.array([\n",
    "        v1 - v0,\n",
    "        v2 - v1,\n",
    "        v0 - v2\n",
    "    ])\n",
    "    \n",
    "    for i in range(3):\n",
    "        e1 = edges[i]\n",
    "        e2 = -edges[(i+1) % 3]\n",
    "        cos_angle = np.dot(e1, e2) / (np.linalg.norm(e1) * np.linalg.norm(e2))\n",
    "        cos_angle = np.clip(cos_angle, -1, 1)  # Handle numerical errors\n",
    "        angle = np.degrees(np.arccos(cos_angle))\n",
    "        triangle_angles.append(angle)\n",
    "\n",
    "triangle_areas = np.array(triangle_areas)\n",
    "triangle_angles = np.array(triangle_angles)"
   ]
  },
  {
   "cell_type": "code",
   "execution_count": null,
   "metadata": {},
   "outputs": [],
   "source": [
    "# Create quality summary\n",
    "print(\"Triangle Quality Metrics:\")\n",
    "print(f\"  Minimum angle: {triangle_angles.min():.1f} degrees\")\n",
    "print(f\"  Maximum angle: {triangle_angles.max():.1f} degrees\")\n",
    "print(f\"  Mean angle: {triangle_angles.mean():.1f} degrees\")\n",
    "print(f\"  Triangles with angle < 20 degrees: {(triangle_angles < 20).sum()}\")\n",
    "print()\n",
    "print(f\"Triangle Area Statistics:\")\n",
    "print(f\"  Min area: {triangle_areas.min():.2e} units^2\")\n",
    "print(f\"  Max area: {triangle_areas.max():.2e} units^2\")\n",
    "print(f\"  Mean area: {triangle_areas.mean():.2e} units^2\")\n",
    "print(f\"  Area ratio (max/min): {triangle_areas.max()/triangle_areas.min():.1f}\")"
   ]
  },
  {
   "cell_type": "code",
   "execution_count": null,
   "metadata": {},
   "outputs": [],
   "source": [
    "# Plot angle distribution\n",
    "angle_df = pd.DataFrame({'angle': triangle_angles})\n",
    "\n",
    "p_angles = (ggplot(angle_df, aes(x='angle')) +\n",
    "    geom_histogram(bins=30, fill='steelblue', alpha=0.7) +\n",
    "    geom_vline(xintercept=20, color='red', linetype='dashed', alpha=0.5) +\n",
    "    theme_minimal() +\n",
    "    labs(title=\"Triangle Angle Distribution\",\n",
    "         subtitle=\"Red line shows 20 degree minimum constraint\",\n",
    "         x=\"Angle (degrees)\",\n",
    "         y=\"Count\"))\n",
    "\n",
    "p_angles"
   ]
  },
  {
   "cell_type": "markdown",
   "metadata": {},
   "source": [
    "#### Test Different Mesh Resolutions"
   ]
  },
  {
   "cell_type": "code",
   "execution_count": null,
   "metadata": {},
   "outputs": [],
   "source": [
    "# Compare different mesh resolutions\n",
    "resolutions = [0.3, 0.5, 0.7]  # Different target_edge_factors\n",
    "mesh_comparison = []\n",
    "\n",
    "for factor in resolutions:\n",
    "    mesh_test = SPDEMesh(clean_coords, proj_info)\n",
    "    vertices_test, triangles_test = mesh_test.create_mesh(\n",
    "        target_edge_factor=factor,\n",
    "        verbose=False\n",
    "    )\n",
    "    \n",
    "    mesh_comparison.append({\n",
    "        'edge_factor': factor,\n",
    "        'n_vertices': len(vertices_test),\n",
    "        'n_triangles': len(triangles_test),\n",
    "        'ratio': len(vertices_test) / len(clean_coords),\n",
    "        'memory_mb': mesh_test.diagnostics['memory_estimate_mb']\n",
    "    })\n",
    "\n",
    "comparison_df = pd.DataFrame(mesh_comparison)\n",
    "print(\"Mesh Resolution Comparison:\")\n",
    "print(comparison_df.to_string(index=False))"
   ]
  },
  {
   "cell_type": "markdown",
   "metadata": {},
   "source": [
    "#### Summary\n",
    "\n",
    "The mesh generation successfully:\n",
    "1. Created a quality triangular mesh from observation coordinates\n",
    "2. Used data-adaptive parameters based on observation density\n",
    "3. Extended the boundary to avoid edge effects\n",
    "4. Maintained minimum angle constraints for numerical stability\n",
    "\n",
    "This mesh is ready for computing the FEM matrices (A, C, G) needed for Stan SPDE models."
   ]
  },
  {
   "cell_type": "code",
   "execution_count": null,
   "metadata": {},
   "outputs": [],
   "source": []
  }
 ],
 "metadata": {
  "kernelspec": {
   "display_name": "Python 3 (ipykernel)",
   "language": "python",
   "name": "python3"
  },
  "language_info": {
   "codemirror_mode": {
    "name": "ipython",
    "version": 3
   },
   "file_extension": ".py",
   "mimetype": "text/x-python",
   "name": "python",
   "nbconvert_exporter": "python",
   "pygments_lexer": "ipython3",
   "version": "3.12.2"
  }
 },
 "nbformat": 4,
 "nbformat_minor": 4
}
