{
 "cells": [
  {
   "cell_type": "markdown",
   "metadata": {},
   "source": [
    "## Step 4:  Fit the SPDE Spatial Model to the data\n",
    "\n",
    "This notebook:\n",
    "1. Compiles the SPDE Stan model (`spde_pm25.stan`)\n",
    "2. Loads the preprocessed data from `json_data/stan_data.json`\n",
    "3. Runs MCMC sampling\n",
    "4. Provides basic diagnostics and visualization\n",
    "\n",
    "**Prerequisites**: Run the FEM preprocessing notebook first to generate `json_data/stan_data.json`"
   ]
  },
  {
   "cell_type": "markdown",
   "metadata": {},
   "source": [
    "### Setup and Imports"
   ]
  },
  {
   "cell_type": "code",
   "execution_count": 1,
   "metadata": {},
   "outputs": [],
   "source": [
    "import os\n",
    "import json\n",
    "import numpy as np\n",
    "import pandas as pd\n",
    "import matplotlib.pyplot as plt\n",
    "from pathlib import Path\n",
    "\n",
    "# CmdStanPy for Stan interface\n",
    "from cmdstanpy import CmdStanModel, from_csv"
   ]
  },
  {
   "cell_type": "markdown",
   "metadata": {},
   "source": [
    "### Load Preprocessed Data"
   ]
  },
  {
   "cell_type": "code",
   "execution_count": 2,
   "metadata": {},
   "outputs": [
    {
     "name": "stdout",
     "output_type": "stream",
     "text": [
      "Loaded Stan data with 19 fields\n",
      "\n",
      "Data dimensions:\n",
      "  Observations: 1857\n",
      "  Mesh vertices: 9203\n",
      "  A matrix non-zeros: 5571\n",
      "  Q matrix non-zeros: 64145\n",
      "\n",
      "Prior mean PM2.5: 12.0\n"
     ]
    }
   ],
   "source": [
    "# Load the preprocessed data\n",
    "data_path = Path(\"json_data/pm25_europe_data.json\")\n",
    "\n",
    "if not data_path.exists():\n",
    "    raise FileNotFoundError(\n",
    "        f\"Data file not found at {data_path}. \"\n",
    "        \"Please run the FEM preprocessing notebook first.\"\n",
    "    )\n",
    "\n",
    "with open(data_path, 'r') as f:\n",
    "    stan_data = json.load(f)\n",
    "\n",
    "print(f\"Loaded Stan data with {len(stan_data)} fields\")\n",
    "print(f\"\\nData dimensions:\")\n",
    "print(f\"  Observations: {stan_data['N_obs']}\")\n",
    "print(f\"  Mesh vertices: {stan_data['N_vertices']}\")\n",
    "print(f\"  A matrix non-zeros: {stan_data['A_nnz']}\")\n",
    "print(f\"  Q matrix non-zeros: {stan_data['Q_nnz']}\")\n",
    "print(f\"\\nPrior mean PM2.5: {stan_data['prior_mean']:.1f}\")"
   ]
  },
  {
   "cell_type": "markdown",
   "metadata": {},
   "source": [
    "### Compile Stan Model"
   ]
  },
  {
   "cell_type": "code",
   "execution_count": 3,
   "metadata": {},
   "outputs": [
    {
     "name": "stdout",
     "output_type": "stream",
     "text": [
      "Compiling Stan model...\n",
      "Model compiled successfully!\n",
      "\n",
      "Model structure (first 30 lines):\n",
      "============================================================\n",
      "// Spatial Regression for PM2.5 Data using SPDE\n",
      "// Uses CSR format for efficient sparse matrix operations\n",
      "\n",
      "functions {\n",
      "  // Compute quadratic form: x' * Q * x for CSR matrix Q\n",
      "  real sparse_quad_form_csr(vector x, vector Q_w, array[] int Q_v, array[] int Q_u) {\n",
      "    int N = num_elements(x);\n",
      "    real result = 0;\n",
      "    \n",
      "    for (i in 1:N) {\n",
      "      // For row i, entries are from Q_u[i] to Q_u[i+1]-1\n",
      "      for (j in Q_u[i]:(Q_u[i+1]-1)) {\n",
      "        result += x[i] * Q_w[j] * x[Q_v[j]];\n",
      "      }\n",
      "    }\n",
      "    return result;\n",
      "  }\n",
      "}\n",
      "\n",
      "data {\n",
      "  int<lower=1> N_obs;\n",
      "  int<lower=1> N_vertices;\n",
      "  \n",
      "  vector[N_obs] y;\n",
      "  array[N_obs] int<lower=0,upper=1> is_urban;\n",
      "  \n",
      "  // Sparse matrix A (projector) in CSR format\n",
      "  int<lower=0> A_nnz;\n",
      "  vector[A_nnz] A_w;          // values\n",
      "  array[A_nnz] int A_v;       // column indices (1-indexed)\n",
      "\n",
      "...\n"
     ]
    }
   ],
   "source": [
    "# Compile the Stan model\n",
    "model_path = \"spde_pm25.stan\"\n",
    "\n",
    "if not Path(model_path).exists():\n",
    "    raise FileNotFoundError(f\"Stan model not found at {model_path}\")\n",
    "\n",
    "print(\"Compiling Stan model...\")\n",
    "model = CmdStanModel(stan_file=model_path)\n",
    "print(\"Model compiled successfully!\")\n",
    "\n",
    "# Display model code (first 30 lines)\n",
    "print(\"\\nModel structure (first 30 lines):\")\n",
    "print(\"=\"*60)\n",
    "with open(model_path, 'r') as f:\n",
    "    lines = f.readlines()[:30]\n",
    "    print(''.join(lines))\n",
    "print(\"...\")"
   ]
  },
  {
   "cell_type": "markdown",
   "metadata": {},
   "source": [
    "### Configure Sampling Parameters"
   ]
  },
  {
   "cell_type": "code",
   "execution_count": 4,
   "metadata": {},
   "outputs": [],
   "source": [
    "# Sampling configuration\n",
    "sampling_config = {\n",
    "    'refresh': 10,  # Print progress every X iterations\n",
    "    'adapt_init_phase': 50,\n",
    "    'adapt_metric_window': 25,\n",
    "    'save_warmup' : True,\n",
    "    'output_dir' : 'tmp',\n",
    "}"
   ]
  },
  {
   "cell_type": "markdown",
   "metadata": {},
   "source": [
    "### Run MCMC Sampling\n",
    "\n",
    "**Note**: This may take several minutes depending on your data size and computer."
   ]
  },
  {
   "cell_type": "code",
   "execution_count": 5,
   "metadata": {},
   "outputs": [
    {
     "name": "stdout",
     "output_type": "stream",
     "text": [
      "Starting MCMC sampling...\n",
      "This may take several minutes.\n",
      "\n"
     ]
    },
    {
     "name": "stderr",
     "output_type": "stream",
     "text": [
      "14:35:26 - cmdstanpy - INFO - CmdStan start processing\n"
     ]
    },
    {
     "data": {
      "application/vnd.jupyter.widget-view+json": {
       "model_id": "321ac640d03644c8b59d7ccca5d6cd30",
       "version_major": 2,
       "version_minor": 0
      },
      "text/plain": [
       "chain 1:   0%|          | 0/2000 [00:00<?, ?it/s, (Warmup)]"
      ]
     },
     "metadata": {},
     "output_type": "display_data"
    },
    {
     "data": {
      "application/vnd.jupyter.widget-view+json": {
       "model_id": "0d832f82aff24c93bebce341b655bdd9",
       "version_major": 2,
       "version_minor": 0
      },
      "text/plain": [
       "chain 2:   0%|          | 0/2000 [00:00<?, ?it/s, (Warmup)]"
      ]
     },
     "metadata": {},
     "output_type": "display_data"
    },
    {
     "data": {
      "application/vnd.jupyter.widget-view+json": {
       "model_id": "49291773f65946a78a786cdcf98dc01e",
       "version_major": 2,
       "version_minor": 0
      },
      "text/plain": [
       "chain 3:   0%|          | 0/2000 [00:00<?, ?it/s, (Warmup)]"
      ]
     },
     "metadata": {},
     "output_type": "display_data"
    },
    {
     "data": {
      "application/vnd.jupyter.widget-view+json": {
       "model_id": "44e3e9c373f248ccb11b6c750e14a350",
       "version_major": 2,
       "version_minor": 0
      },
      "text/plain": [
       "chain 4:   0%|          | 0/2000 [00:00<?, ?it/s, (Warmup)]"
      ]
     },
     "metadata": {},
     "output_type": "display_data"
    },
    {
     "name": "stdout",
     "output_type": "stream",
     "text": [
      "                                                                                                                                                                                                                                                                                                                                "
     ]
    },
    {
     "name": "stderr",
     "output_type": "stream",
     "text": [
      "15:40:05 - cmdstanpy - INFO - CmdStan done processing.\n"
     ]
    },
    {
     "name": "stdout",
     "output_type": "stream",
     "text": [
      "\n"
     ]
    },
    {
     "name": "stderr",
     "output_type": "stream",
     "text": [
      "15:40:06 - cmdstanpy - WARNING - Some chains may have failed to converge.\n",
      "\tChain 1 had 368 divergent transitions (36.8%)\n",
      "\tChain 1 had 632 iterations at max treedepth (63.2%)\n",
      "\tChain 2 had 142 divergent transitions (14.2%)\n",
      "\tChain 2 had 858 iterations at max treedepth (85.8%)\n",
      "\tChain 3 had 1000 iterations at max treedepth (100.0%)\n",
      "\tChain 4 had 1000 iterations at max treedepth (100.0%)\n",
      "\tUse the \"diagnose()\" method on the CmdStanMCMC object to see further information.\n"
     ]
    },
    {
     "name": "stdout",
     "output_type": "stream",
     "text": [
      "\n",
      "Sampling completed successfully!\n"
     ]
    }
   ],
   "source": [
    "# Run the sampler\n",
    "print(\"Starting MCMC sampling...\")\n",
    "print(\"This may take several minutes.\\n\")\n",
    "\n",
    "fit = model.sample(\n",
    "    data=stan_data,\n",
    "    **sampling_config\n",
    ")\n",
    "\n",
    "print(\"\\nSampling completed successfully!\")"
   ]
  },
  {
   "cell_type": "code",
   "execution_count": 6,
   "metadata": {},
   "outputs": [
    {
     "data": {
      "text/html": [
       "<div>\n",
       "<style scoped>\n",
       "    .dataframe tbody tr th:only-of-type {\n",
       "        vertical-align: middle;\n",
       "    }\n",
       "\n",
       "    .dataframe tbody tr th {\n",
       "        vertical-align: top;\n",
       "    }\n",
       "\n",
       "    .dataframe thead th {\n",
       "        text-align: right;\n",
       "    }\n",
       "</style>\n",
       "<table border=\"1\" class=\"dataframe\">\n",
       "  <thead>\n",
       "    <tr style=\"text-align: right;\">\n",
       "      <th></th>\n",
       "      <th>Mean</th>\n",
       "      <th>MCSE</th>\n",
       "      <th>StdDev</th>\n",
       "      <th>MAD</th>\n",
       "      <th>5%</th>\n",
       "      <th>50%</th>\n",
       "      <th>95%</th>\n",
       "      <th>ESS_bulk</th>\n",
       "      <th>ESS_tail</th>\n",
       "      <th>ESS_bulk/s</th>\n",
       "      <th>R_hat</th>\n",
       "    </tr>\n",
       "  </thead>\n",
       "  <tbody>\n",
       "    <tr>\n",
       "      <th>lp__</th>\n",
       "      <td>-18486.50</td>\n",
       "      <td>841.69</td>\n",
       "      <td>1281.50</td>\n",
       "      <td>1707.52</td>\n",
       "      <td>-20206.10</td>\n",
       "      <td>-18442.00</td>\n",
       "      <td>-16098.60</td>\n",
       "      <td>4.36</td>\n",
       "      <td>2000.00</td>\n",
       "      <td>0.00</td>\n",
       "      <td>3.66</td>\n",
       "    </tr>\n",
       "    <tr>\n",
       "      <th>alpha</th>\n",
       "      <td>4.86</td>\n",
       "      <td>4.10</td>\n",
       "      <td>5.88</td>\n",
       "      <td>7.46</td>\n",
       "      <td>-2.08</td>\n",
       "      <td>2.97</td>\n",
       "      <td>12.63</td>\n",
       "      <td>4.60</td>\n",
       "      <td>2000.00</td>\n",
       "      <td>0.00</td>\n",
       "      <td>2.98</td>\n",
       "    </tr>\n",
       "    <tr>\n",
       "      <th>beta_urban</th>\n",
       "      <td>-0.39</td>\n",
       "      <td>0.87</td>\n",
       "      <td>1.27</td>\n",
       "      <td>1.25</td>\n",
       "      <td>-2.35</td>\n",
       "      <td>-0.25</td>\n",
       "      <td>1.70</td>\n",
       "      <td>4.52</td>\n",
       "      <td>2000.00</td>\n",
       "      <td>0.00</td>\n",
       "      <td>3.12</td>\n",
       "    </tr>\n",
       "    <tr>\n",
       "      <th>w[1]</th>\n",
       "      <td>0.20</td>\n",
       "      <td>0.55</td>\n",
       "      <td>0.97</td>\n",
       "      <td>1.03</td>\n",
       "      <td>-0.92</td>\n",
       "      <td>-0.17</td>\n",
       "      <td>2.14</td>\n",
       "      <td>5.07</td>\n",
       "      <td>2000.00</td>\n",
       "      <td>0.00</td>\n",
       "      <td>2.28</td>\n",
       "    </tr>\n",
       "    <tr>\n",
       "      <th>w[2]</th>\n",
       "      <td>0.95</td>\n",
       "      <td>0.67</td>\n",
       "      <td>1.06</td>\n",
       "      <td>1.44</td>\n",
       "      <td>-0.47</td>\n",
       "      <td>0.91</td>\n",
       "      <td>2.57</td>\n",
       "      <td>5.23</td>\n",
       "      <td>2000.00</td>\n",
       "      <td>0.00</td>\n",
       "      <td>2.12</td>\n",
       "    </tr>\n",
       "    <tr>\n",
       "      <th>...</th>\n",
       "      <td>...</td>\n",
       "      <td>...</td>\n",
       "      <td>...</td>\n",
       "      <td>...</td>\n",
       "      <td>...</td>\n",
       "      <td>...</td>\n",
       "      <td>...</td>\n",
       "      <td>...</td>\n",
       "      <td>...</td>\n",
       "      <td>...</td>\n",
       "      <td>...</td>\n",
       "    </tr>\n",
       "    <tr>\n",
       "      <th>y_rep[1853]</th>\n",
       "      <td>-0.64</td>\n",
       "      <td>19.12</td>\n",
       "      <td>50.90</td>\n",
       "      <td>41.74</td>\n",
       "      <td>-86.44</td>\n",
       "      <td>-0.91</td>\n",
       "      <td>87.22</td>\n",
       "      <td>10.33</td>\n",
       "      <td>2000.00</td>\n",
       "      <td>0.00</td>\n",
       "      <td>1.29</td>\n",
       "    </tr>\n",
       "    <tr>\n",
       "      <th>y_rep[1854]</th>\n",
       "      <td>42.31</td>\n",
       "      <td>20.61</td>\n",
       "      <td>49.36</td>\n",
       "      <td>43.79</td>\n",
       "      <td>-32.32</td>\n",
       "      <td>38.20</td>\n",
       "      <td>132.69</td>\n",
       "      <td>10.85</td>\n",
       "      <td>2000.00</td>\n",
       "      <td>0.00</td>\n",
       "      <td>1.29</td>\n",
       "    </tr>\n",
       "    <tr>\n",
       "      <th>y_rep[1855]</th>\n",
       "      <td>11.48</td>\n",
       "      <td>6.81</td>\n",
       "      <td>49.55</td>\n",
       "      <td>42.03</td>\n",
       "      <td>-72.34</td>\n",
       "      <td>11.87</td>\n",
       "      <td>94.15</td>\n",
       "      <td>34.53</td>\n",
       "      <td>2000.00</td>\n",
       "      <td>0.00</td>\n",
       "      <td>1.11</td>\n",
       "    </tr>\n",
       "    <tr>\n",
       "      <th>y_rep[1856]</th>\n",
       "      <td>45.33</td>\n",
       "      <td>29.46</td>\n",
       "      <td>58.20</td>\n",
       "      <td>44.58</td>\n",
       "      <td>-35.97</td>\n",
       "      <td>35.99</td>\n",
       "      <td>161.50</td>\n",
       "      <td>8.05</td>\n",
       "      <td>2000.00</td>\n",
       "      <td>0.00</td>\n",
       "      <td>1.43</td>\n",
       "    </tr>\n",
       "    <tr>\n",
       "      <th>y_rep[1857]</th>\n",
       "      <td>32.79</td>\n",
       "      <td>0.76</td>\n",
       "      <td>41.80</td>\n",
       "      <td>35.21</td>\n",
       "      <td>-34.30</td>\n",
       "      <td>33.27</td>\n",
       "      <td>101.88</td>\n",
       "      <td>2672.42</td>\n",
       "      <td>357.05</td>\n",
       "      <td>0.35</td>\n",
       "      <td>1.09</td>\n",
       "    </tr>\n",
       "  </tbody>\n",
       "</table>\n",
       "<p>12922 rows × 11 columns</p>\n",
       "</div>"
      ],
      "text/plain": [
       "                 Mean    MCSE   StdDev      MAD        5%       50%       95%  \\\n",
       "lp__        -18486.50  841.69  1281.50  1707.52 -20206.10 -18442.00 -16098.60   \n",
       "alpha            4.86    4.10     5.88     7.46     -2.08      2.97     12.63   \n",
       "beta_urban      -0.39    0.87     1.27     1.25     -2.35     -0.25      1.70   \n",
       "w[1]             0.20    0.55     0.97     1.03     -0.92     -0.17      2.14   \n",
       "w[2]             0.95    0.67     1.06     1.44     -0.47      0.91      2.57   \n",
       "...               ...     ...      ...      ...       ...       ...       ...   \n",
       "y_rep[1853]     -0.64   19.12    50.90    41.74    -86.44     -0.91     87.22   \n",
       "y_rep[1854]     42.31   20.61    49.36    43.79    -32.32     38.20    132.69   \n",
       "y_rep[1855]     11.48    6.81    49.55    42.03    -72.34     11.87     94.15   \n",
       "y_rep[1856]     45.33   29.46    58.20    44.58    -35.97     35.99    161.50   \n",
       "y_rep[1857]     32.79    0.76    41.80    35.21    -34.30     33.27    101.88   \n",
       "\n",
       "             ESS_bulk  ESS_tail  ESS_bulk/s  R_hat  \n",
       "lp__             4.36   2000.00        0.00   3.66  \n",
       "alpha            4.60   2000.00        0.00   2.98  \n",
       "beta_urban       4.52   2000.00        0.00   3.12  \n",
       "w[1]             5.07   2000.00        0.00   2.28  \n",
       "w[2]             5.23   2000.00        0.00   2.12  \n",
       "...               ...       ...         ...    ...  \n",
       "y_rep[1853]     10.33   2000.00        0.00   1.29  \n",
       "y_rep[1854]     10.85   2000.00        0.00   1.29  \n",
       "y_rep[1855]     34.53   2000.00        0.00   1.11  \n",
       "y_rep[1856]      8.05   2000.00        0.00   1.43  \n",
       "y_rep[1857]   2672.42    357.05        0.35   1.09  \n",
       "\n",
       "[12922 rows x 11 columns]"
      ]
     },
     "execution_count": 6,
     "metadata": {},
     "output_type": "execute_result"
    }
   ],
   "source": [
    "summary = fit.summary()\n",
    "summary.round(2)"
   ]
  },
  {
   "cell_type": "markdown",
   "metadata": {},
   "source": [
    "### Parameter Summary"
   ]
  },
  {
   "cell_type": "code",
   "execution_count": null,
   "metadata": {},
   "outputs": [],
   "source": [
    "# Get summary statistics for key parameters\n",
    "# Filter for main parameters (not including the spatial field w)\n",
    "main_params = ['alpha', 'sigma', 'tau']\n",
    "param_summary = summary[summary.index.isin(main_params)]\n",
    "\n",
    "print(\"Parameter estimates:\")\n",
    "print(\"=\"*60)\n",
    "print(param_summary[['Mean', 'StdDev', '5%', '95%', 'ESS_bulk', 'R_hat']].round(2))\n",
    "\n",
    "# Check R_hat values\n",
    "max_rhat = param_summary['R_hat'].max()\n",
    "print(f\"\\nMax R_hat for main parameters: {max_rhat:.3f}\")\n",
    "if max_rhat > 1.01:\n",
    "    print(\"Warning: Some R_hat values > 1.01, indicating potential convergence issues\")\n",
    "else:\n",
    "    print(\"All R_hat values < 1.01, indicating good convergence\")"
   ]
  },
  {
   "cell_type": "markdown",
   "metadata": {},
   "source": [
    "### Visualize Parameter Distributions"
   ]
  },
  {
   "cell_type": "code",
   "execution_count": null,
   "metadata": {},
   "outputs": [],
   "source": [
    "# Extract samples for main parameters\n",
    "draws = fit.draws_pd()\n",
    "\n",
    "# Create trace plots\n",
    "fig, axes = plt.subplots(len(main_params), 2, figsize=(12, 10))\n",
    "fig.suptitle('Parameter Trace Plots and Distributions', fontsize=14)\n",
    "\n",
    "for idx, param in enumerate(main_params):\n",
    "    # Trace plot\n",
    "    ax_trace = axes[idx, 0]\n",
    "    for chain in range(4):\n",
    "        chain_draws = draws[draws['chain__'] == chain+1][param]\n",
    "        ax_trace.plot(chain_draws.values, alpha=0.7, linewidth=0.5)\n",
    "    ax_trace.set_ylabel(param)\n",
    "    ax_trace.set_xlabel('Iteration')\n",
    "    ax_trace.set_title(f'{param} chains')\n",
    "    \n",
    "    # Histogram\n",
    "    ax_hist = axes[idx, 1]\n",
    "    ax_hist.hist(draws[param], bins=50, density=True, alpha=0.7, color='blue')\n",
    "    ax_hist.axvline(draws[param].mean(), color='red', linestyle='--', label='Mean')\n",
    "    ax_hist.axvline(draws[param].median(), color='green', linestyle='--', label='Median')\n",
    "    ax_hist.set_xlabel(param)\n",
    "    ax_hist.set_ylabel('Density')\n",
    "    ax_hist.set_title(f'{param} distribution')\n",
    "    ax_hist.legend()\n",
    "\n",
    "plt.tight_layout()\n",
    "plt.show()"
   ]
  },
  {
   "cell_type": "markdown",
   "metadata": {},
   "source": [
    "### Posterior Predictive Checks"
   ]
  },
  {
   "cell_type": "code",
   "execution_count": null,
   "metadata": {},
   "outputs": [],
   "source": [
    "# Extract posterior predictive samples\n",
    "y_rep_cols = [col for col in draws.columns if col.startswith('y_rep[')]\n",
    "y_rep = draws[y_rep_cols].values\n",
    "\n",
    "# Get observed data\n",
    "y_obs = np.array(stan_data['y'])\n",
    "\n",
    "# Calculate posterior predictive mean and intervals\n",
    "y_rep_mean = y_rep.mean(axis=0)\n",
    "y_rep_lower = np.percentile(y_rep, 5, axis=0)\n",
    "y_rep_upper = np.percentile(y_rep, 95, axis=0)\n",
    "\n",
    "# Plot observed vs predicted\n",
    "fig, axes = plt.subplots(1, 2, figsize=(12, 5))\n",
    "\n",
    "# Observed vs predicted means\n",
    "ax1 = axes[0]\n",
    "ax1.scatter(y_obs, y_rep_mean, alpha=0.5, s=10)\n",
    "ax1.plot([y_obs.min(), y_obs.max()], [y_obs.min(), y_obs.max()], 'r--', label='1:1 line')\n",
    "ax1.set_xlabel('Observed PM2.5')\n",
    "ax1.set_ylabel('Predicted PM2.5 (mean)')\n",
    "ax1.set_title('Observed vs Predicted')\n",
    "ax1.legend()\n",
    "\n",
    "# Coverage plot\n",
    "ax2 = axes[1]\n",
    "in_interval = (y_obs >= y_rep_lower) & (y_obs <= y_rep_upper)\n",
    "coverage = in_interval.mean() * 100\n",
    "\n",
    "ax2.errorbar(y_obs[::10], y_rep_mean[::10], \n",
    "             yerr=[y_rep_mean[::10] - y_rep_lower[::10], \n",
    "                   y_rep_upper[::10] - y_rep_mean[::10]],\n",
    "             fmt='o', alpha=0.3, markersize=3, elinewidth=0.5)\n",
    "ax2.plot([y_obs.min(), y_obs.max()], [y_obs.min(), y_obs.max()], 'r--')\n",
    "ax2.set_xlabel('Observed PM2.5')\n",
    "ax2.set_ylabel('Predicted PM2.5 (90% CI)')\n",
    "ax2.set_title(f'90% Prediction Intervals\\n(Coverage: {coverage:.1f}%)')\n",
    "\n",
    "plt.tight_layout()\n",
    "plt.show()\n",
    "\n",
    "# Print summary statistics\n",
    "residuals = y_obs - y_rep_mean\n",
    "print(f\"Residual statistics:\")\n",
    "print(f\"  Mean: {residuals.mean():.3f}\")\n",
    "print(f\"  Std: {residuals.std():.3f}\")\n",
    "print(f\"  RMSE: {np.sqrt((residuals**2).mean()):.3f}\")\n",
    "print(f\"  MAE: {np.abs(residuals).mean():.3f}\")"
   ]
  },
  {
   "cell_type": "markdown",
   "metadata": {},
   "source": [
    "### Extract and Visualize Spatial Field\n",
    "\n",
    "The spatial field `w` at mesh vertices captures the spatial correlation structure."
   ]
  },
  {
   "cell_type": "code",
   "execution_count": null,
   "metadata": {},
   "outputs": [],
   "source": [
    "# Extract posterior mean of spatial field\n",
    "w_cols = [col for col in draws.columns if col.startswith('w[')]\n",
    "w_samples = draws[w_cols].values\n",
    "w_mean = w_samples.mean(axis=0)\n",
    "w_std = w_samples.std(axis=0)\n",
    "\n",
    "print(f\"Spatial field statistics:\")\n",
    "print(f\"  Number of vertices: {len(w_mean)}\")\n",
    "print(f\"  Mean value: {w_mean.mean():.3f}\")\n",
    "print(f\"  Std of means: {w_mean.std():.3f}\")\n",
    "print(f\"  Range: [{w_mean.min():.3f}, {w_mean.max():.3f}]\")\n",
    "\n",
    "# Plot distribution of spatial field values\n",
    "fig, axes = plt.subplots(1, 2, figsize=(12, 5))\n",
    "\n",
    "# Distribution of posterior means\n",
    "axes[0].hist(w_mean, bins=50, density=True, alpha=0.7, color='blue')\n",
    "axes[0].axvline(0, color='red', linestyle='--', label='Zero')\n",
    "axes[0].set_xlabel('Spatial field value')\n",
    "axes[0].set_ylabel('Density')\n",
    "axes[0].set_title('Distribution of Spatial Field (posterior means)')\n",
    "axes[0].legend()\n",
    "\n",
    "# Uncertainty in spatial field\n",
    "axes[1].hist(w_std, bins=50, density=True, alpha=0.7, color='orange')\n",
    "axes[1].set_xlabel('Posterior std deviation')\n",
    "axes[1].set_ylabel('Density')\n",
    "axes[1].set_title('Uncertainty in Spatial Field')\n",
    "\n",
    "plt.tight_layout()\n",
    "plt.show()"
   ]
  },
  {
   "cell_type": "markdown",
   "metadata": {},
   "source": [
    "### Geographic Visualization of Spatial Patterns\n",
    "\n",
    "Visualize the spatial field and residuals overlaid on the geographic locations."
   ]
  },
  {
   "cell_type": "code",
   "execution_count": null,
   "metadata": {},
   "outputs": [],
   "source": [
    "# Load required libraries for geographic visualization\n",
    "import geopandas as gpd\n",
    "from plotnine import *\n",
    "import warnings\n",
    "warnings.filterwarnings('ignore', category=FutureWarning)\n",
    "\n",
    "# Load original coordinate data\n",
    "pm25_data = pd.read_csv('north_america_pm25.csv')\n",
    "\n",
    "# We need to reload the preprocessed coordinate data\n",
    "import sys\n",
    "sys.path.insert(0, '..')\n",
    "from geo_spde.coords import preprocess_coords\n",
    "\n",
    "# Get coordinates in original lon/lat\n",
    "lon_lat_coords = pm25_data[['Longitude', 'Latitude']].to_numpy()\n",
    "\n",
    "# Process to get the same cleaned coordinates used in modeling\n",
    "clean_coords, indices, proj_info = preprocess_coords(\n",
    "    lon_lat_coords,\n",
    "    remove_duplicates=True\n",
    ")\n",
    "\n",
    "# Get the cleaned data\n",
    "pm25_clean = pm25_data.iloc[indices].copy()\n",
    "lon_lat_clean = lon_lat_coords[indices]"
   ]
  },
  {
   "cell_type": "markdown",
   "metadata": {},
   "source": [
    "### Save Results"
   ]
  },
  {
   "cell_type": "code",
   "execution_count": null,
   "metadata": {},
   "outputs": [],
   "source": [
    "# Compute spatial field at observation locations using A matrix\n",
    "# Extract A matrix structure from stan_data\n",
    "A_w = np.array(stan_data['A_w'])\n",
    "A_v = np.array(stan_data['A_v']) - 1  # Convert to 0-indexed\n",
    "A_u = np.array(stan_data['A_u']) - 1  # Convert to 0-indexed\n",
    "\n",
    "# Function to multiply sparse CSR matrix with vector\n",
    "def csr_matvec(w_vals, v_indices, u_pointers, x):\n",
    "    \"\"\"Multiply CSR matrix with vector\"\"\"\n",
    "    n_rows = len(u_pointers) - 1\n",
    "    result = np.zeros(n_rows)\n",
    "    \n",
    "    for i in range(n_rows):\n",
    "        for j in range(u_pointers[i], u_pointers[i+1]):\n",
    "            result[i] += w_vals[j] * x[v_indices[j]]\n",
    "    \n",
    "    return result\n",
    "\n",
    "# Compute spatial field at observation locations\n",
    "w_at_obs = csr_matvec(A_w, A_v, A_u, w_mean)\n",
    "\n",
    "# Compute model predictions and residuals\n",
    "alpha_mean = draws['alpha'].mean()\n",
    "\n",
    "# Fixed effects prediction (without spatial field)\n",
    "fixed_pred = alpha_mean\n",
    "\n",
    "# Full model prediction at observations\n",
    "y_pred_full = fixed_pred + w_at_obs\n",
    "\n",
    "# Residuals\n",
    "residuals = y_obs - y_pred_full\n",
    "\n",
    "print(f\"Spatial field contribution at observations:\")\n",
    "print(f\"  Mean: {w_at_obs.mean():.3f}\")\n",
    "print(f\"  Std: {w_at_obs.std():.3f}\")\n",
    "print(f\"  Range: [{w_at_obs.min():.3f}, {w_at_obs.max():.3f}]\")"
   ]
  },
  {
   "cell_type": "code",
   "execution_count": null,
   "metadata": {},
   "outputs": [],
   "source": [
    "# Load USA map from naturalearth\n",
    "url = \"https://naciscdn.org/naturalearth/110m/cultural/ne_110m_admin_0_countries.zip\"\n",
    "world = gpd.read_file(url)\n",
    "north_america_map = world[world['ISO_A3'].isin(['CAN', 'USA', 'MEX'])]\n",
    "\n",
    "# Project map to same coordinate system as our data\n",
    "north_america_proj = north_america_map.to_crs(proj_info['proj4_string'])\n",
    "\n",
    "# Create dataframe with all visualization data\n",
    "viz_df = pd.DataFrame({\n",
    "    'Longitude': lon_lat_clean[:, 0],\n",
    "    'Latitude': lon_lat_clean[:, 1],\n",
    "    'x_proj': clean_coords[:, 0],\n",
    "    'y_proj': clean_coords[:, 1],\n",
    "    'PM25_observed': y_obs,\n",
    "    'PM25_predicted': y_pred_full,\n",
    "    'spatial_field': w_at_obs,\n",
    "    'residual': residuals,\n",
    "})"
   ]
  },
  {
   "cell_type": "code",
   "execution_count": null,
   "metadata": {},
   "outputs": [],
   "source": [
    "# Additional visualization: Urban vs Rural effects\n",
    "# First, create a proper categorical variable for urban/rural\n",
    "\n",
    "p_map = (ggplot() +\n",
    "    geom_map(north_america_proj, fill='white', color='black', size=0.2) +\n",
    "    geom_point(data=viz_df,\n",
    "               mapping=aes(x='x_proj', y='y_proj', \n",
    "                          color='spatial_field'),\n",
    "               size=0.5, alpha=0.8) +\n",
    "    scale_color_gradient2(low='blue', mid='white', high='red',\n",
    "                          midpoint=0, name='Spatial\\nField') +\n",
    "    theme_minimal() +\n",
    "    labs(title=\"Spatial Field\") +\n",
    "    coord_fixed())\n",
    "display(p_map)\n",
    "\n",
    "# Alternative: Show residuals by urban/rural\n",
    "p_map_residuals = (ggplot() +\n",
    "    geom_map(north_america_proj, fill='white', color='black', size=0.2) +\n",
    "    geom_point(data=viz_df,\n",
    "               mapping=aes(x='x_proj', y='y_proj', \n",
    "                          color='residual'),\n",
    "               size=0.5, alpha=0.8) +\n",
    "    scale_color_gradient2(low='blue', mid='white', high='red',\n",
    "                          midpoint=0, name='Residual\\n(μg/m³)') +\n",
    "    theme_minimal() +\n",
    "    labs(title=\"Model Residuals\") +\n",
    "    coord_fixed())\n",
    "\n",
    "display(p_map_residuals)"
   ]
  },
  {
   "cell_type": "markdown",
   "metadata": {},
   "source": [
    "### Summary\n",
    "\n",
    "This notebook successfully:\n",
    "1. Compiled the SPDE Stan model\n",
    "2. Loaded preprocessed data from the FEM pipeline\n",
    "3. Ran MCMC sampling with diagnostics\n",
    "4. Visualized parameter distributions and convergence\n",
    "5. Performed posterior predictive checks\n",
    "6. Extracted and analyzed the spatial field\n",
    "\n",
    "The model captures spatial correlation through the latent field `w`, providing better predictions than a non-spatial model would."
   ]
  }
 ],
 "metadata": {
  "kernelspec": {
   "display_name": "Python 3 (ipykernel)",
   "language": "python",
   "name": "python3"
  },
  "language_info": {
   "codemirror_mode": {
    "name": "ipython",
    "version": 3
   },
   "file_extension": ".py",
   "mimetype": "text/x-python",
   "name": "python",
   "nbconvert_exporter": "python",
   "pygments_lexer": "ipython3",
   "version": "3.12.2"
  }
 },
 "nbformat": 4,
 "nbformat_minor": 4
}
