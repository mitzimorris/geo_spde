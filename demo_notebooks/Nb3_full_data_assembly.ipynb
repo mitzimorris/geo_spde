{
 "cells": [
  {
   "cell_type": "markdown",
   "metadata": {},
   "source": [
    "## Step 3: Build spare matrices using FEM approximation\n",
    "\n",
    "This notebook performs the **data preprocessing and assembly** step for SPDE spatial models:\n",
    "\n",
    "1. **Coordinate preprocessing** - Projects geographic coordinates and removes duplicates\n",
    "2. **Mesh generation** - Creates quality triangulation for FEM approximation  \n",
    "3. **FEM matrix computation** - Builds sparse matrices (C, G, A, Q) for SPDE\n",
    "4. **Data export** - Saves matrices in CSR format for efficient Stan computation\n",
    "\n",
    "**Output**: A JSON file (`stan_data.json`) containing all preprocessed data and sparse matrices ready for Stan modeling.\n",
    "\n",
    "**Note**: The Stan model implementation and SPDE theory are explained in a separate notebook."
   ]
  },
  {
   "cell_type": "markdown",
   "metadata": {},
   "source": [
    "#### Libraries"
   ]
  },
  {
   "cell_type": "code",
   "execution_count": null,
   "metadata": {},
   "outputs": [],
   "source": [
    "import os\n",
    "import sys\n",
    "from pathlib import Path\n",
    "import numpy as np\n",
    "import pandas as pd\n",
    "import matplotlib.pyplot as plt\n",
    "from scipy import sparse\n",
    "import warnings\n",
    "\n",
    "# Add parent directory to path to import geo_spde\n",
    "sys.path.insert(0, str(Path.cwd().parent))\n",
    "\n",
    "from geo_spde.coords import preprocess_coords\n",
    "from geo_spde.mesh import SPDEMesh\n",
    "from geo_spde.matrices import compute_fem_matrices, compute_spde_matrices_from_mesh\n",
    "from geo_spde.exceptions import CoordsError, MeshError, MatrixError"
   ]
  },
  {
   "cell_type": "markdown",
   "metadata": {},
   "source": [
    "#### Load PM2.5 Data"
   ]
  },
  {
   "cell_type": "code",
   "execution_count": null,
   "metadata": {},
   "outputs": [],
   "source": [
    "# Load PM2.5 ground monitor data\n",
    "north_america_pm25 = pd.read_csv('north_america_pm25.csv')\n",
    "print(f\"Loaded {len(north_america_pm25)} ground monitor observations\")\n",
    "\n",
    "# Extract coordinates and values\n",
    "pm25_coords = north_america_pm25[['Longitude','Latitude']].to_numpy()\n",
    "pm25 = north_america_pm25['PM25'].to_numpy()\n",
    "is_urban = north_america_pm25['urban'].to_numpy() if 'urban' in north_america_pm25.columns else np.zeros(len(pm25), dtype=int)\n",
    "country = north_america_pm25['country'].to_numpy() if 'country' in north_america_pm25.columns else np.ones(len(pm25), dtype=int)\n",
    "\n",
    "print(f\"PM2.5 range: {pm25.min():.1f} - {pm25.max():.1f}\")\n",
    "print(f\"Mean PM2.5: {pm25.mean():.1f} +/- {pm25.std():.1f}\")"
   ]
  },
  {
   "cell_type": "markdown",
   "metadata": {},
   "source": [
    "### Step 1: Coordinate Preprocessing"
   ]
  },
  {
   "cell_type": "code",
   "execution_count": null,
   "metadata": {},
   "outputs": [],
   "source": [
    "# Preprocess coordinates with automatic projection\n",
    "clean_coords, indices, proj_info = preprocess_coords(\n",
    "    pm25_coords, \n",
    "    remove_duplicates=True  # Remove exact duplicates\n",
    ")\n",
    "\n",
    "# Get cleaned observations\n",
    "north_america_pm25_clean = north_america_pm25.iloc[indices].copy()\n",
    "pm25_clean = pm25[indices]\n",
    "is_urban_clean = is_urban[indices]\n",
    "country_clean = country[indices]\n",
    "\n",
    "print(f\"\\nRetained {len(clean_coords)} unique observation locations\")"
   ]
  },
  {
   "cell_type": "markdown",
   "metadata": {},
   "source": [
    "### Step 2: Mesh Generation"
   ]
  },
  {
   "cell_type": "code",
   "execution_count": null,
   "metadata": {},
   "outputs": [],
   "source": [
    "# Create mesh with data-adaptive parameters\n",
    "mesh = SPDEMesh(clean_coords, proj_info)\n",
    "\n",
    "# Generate mesh (adjust target_edge_factor for resolution)\n",
    "vertices, triangles = mesh.create_mesh(\n",
    "    extension_factor=0.2,\n",
    "    target_edge_factor=0.3,   # see comparison in Nb2\n",
    "    min_angle=20.0,          # Minimum triangle angle for stability\n",
    "    verbose=True\n",
    ")"
   ]
  },
  {
   "cell_type": "markdown",
   "metadata": {},
   "source": [
    "### Step 3: Compute FEM Matrices\n",
    "\n",
    "We compute four key matrices:\n",
    "- **C**: Mass matrix (identity operator discretization)\n",
    "- **G**: Stiffness matrix (Laplacian operator discretization)\n",
    "- **A**: Projector matrix (mesh to observations)\n",
    "- **Q**: Precision matrix (for SPDE prior)"
   ]
  },
  {
   "cell_type": "code",
   "execution_count": null,
   "metadata": {},
   "outputs": [],
   "source": [
    "# Choose SPDE parameters\n",
    "# Range parameter: controls spatial correlation distance\n",
    "# Typical range = 10-20% of domain size\n",
    "domain_size = np.sqrt(\n",
    "    (clean_coords[:, 0].max() - clean_coords[:, 0].min()) * \n",
    "    (clean_coords[:, 1].max() - clean_coords[:, 1].min())\n",
    ")\n",
    "typical_range = domain_size * 0.2\n",
    "kappa = 1.0 / typical_range  # For Matérn nu=1/2\n",
    "\n",
    "print(f\"Domain size: {domain_size/1000:.0f} km\")\n",
    "print(f\"Correlation range: {typical_range/1000:.0f} km\")\n",
    "print(f\"Kappa parameter: {kappa:.2e}\")"
   ]
  },
  {
   "cell_type": "code",
   "execution_count": null,
   "metadata": {},
   "outputs": [],
   "source": [
    "# Compute matrices for Matérn nu=1/2 (alpha=1)\n",
    "C, G, A, Q = compute_spde_matrices_from_mesh(\n",
    "    mesh,\n",
    "    kappa=kappa,\n",
    "    alpha=1,  # Matérn nu=1/2 (exponential covariance)\n",
    "    verbose=True\n",
    ")"
   ]
  },
  {
   "cell_type": "code",
   "execution_count": null,
   "metadata": {},
   "outputs": [],
   "source": [
    "# Compute matrices for Matérn nu=3/2 (alpha=2)\n",
    "# C, G, A, Q = compute_spde_matrices_from_mesh(\n",
    "#    mesh,\n",
    "#    kappa=kappa,\n",
    "#    alpha=2,  # Matérn nu=3/2 (smooth covariance)\n",
    "#    verbose=True\n",
    "#)"
   ]
  },
  {
   "cell_type": "markdown",
   "metadata": {},
   "source": [
    "### Visualize Matrix Sparsity Patterns"
   ]
  },
  {
   "cell_type": "code",
   "execution_count": null,
   "metadata": {},
   "outputs": [],
   "source": [
    "# Create sparsity pattern plots\n",
    "fig, axes = plt.subplots(2, 2, figsize=(12, 10))\n",
    "\n",
    "# C matrix (Mass matrix)\n",
    "axes[0, 0].spy(C, markersize=0.5, color='blue')\n",
    "axes[0, 0].set_title(f'C Matrix (Mass)\\n{C.nnz:,} non-zeros ({C.nnz/(C.shape[0]*C.shape[1])*100:.2f}% dense)')\n",
    "axes[0, 0].set_xlabel('Vertex index')\n",
    "axes[0, 0].set_ylabel('Vertex index')\n",
    "\n",
    "# G matrix (Stiffness matrix)\n",
    "axes[0, 1].spy(G, markersize=0.5, color='red')\n",
    "axes[0, 1].set_title(f'G Matrix (Stiffness)\\n{G.nnz:,} non-zeros ({G.nnz/(G.shape[0]*G.shape[1])*100:.2f}% dense)')\n",
    "axes[0, 1].set_xlabel('Vertex index')\n",
    "axes[0, 1].set_ylabel('Vertex index')\n",
    "\n",
    "# A matrix (Projector matrix)\n",
    "axes[1, 0].spy(A, markersize=0.5, color='green')\n",
    "axes[1, 0].set_title(f'A Matrix (Projector)\\n{A.nnz:,} non-zeros ({A.nnz/(A.shape[0]*A.shape[1])*100:.3f}% dense)')\n",
    "axes[1, 0].set_xlabel('Mesh vertex index')\n",
    "axes[1, 0].set_ylabel('Observation index')\n",
    "\n",
    "# Q matrix (Precision matrix)\n",
    "axes[1, 1].spy(Q, markersize=0.5, color='purple')\n",
    "axes[1, 1].set_title(f'Q Matrix (Precision)\\n{Q.nnz:,} non-zeros ({Q.nnz/(Q.shape[0]*Q.shape[1])*100:.2f}% dense)')\n",
    "axes[1, 1].set_xlabel('Vertex index')\n",
    "axes[1, 1].set_ylabel('Vertex index')\n",
    "\n",
    "plt.tight_layout()\n",
    "plt.show()"
   ]
  },
  {
   "cell_type": "markdown",
   "metadata": {},
   "source": [
    "### Matrix Properties Analysis"
   ]
  },
  {
   "cell_type": "code",
   "execution_count": null,
   "metadata": {},
   "outputs": [],
   "source": [
    "# Analyze matrix properties\n",
    "print(\"Matrix Properties:\")\n",
    "print(\"=\"*50)\n",
    "\n",
    "# C matrix analysis\n",
    "C_diag = C.diagonal()\n",
    "print(f\"\\nC Matrix (Mass):\")\n",
    "print(f\"  Shape: {C.shape}\")\n",
    "print(f\"  Diagonal range: [{C_diag.min():.6f}, {C_diag.max():.6f}]\")\n",
    "print(f\"  Symmetric: {np.allclose(C.toarray(), C.toarray().T)}\")\n",
    "print(f\"  Positive definite: {np.all(C_diag > 0)}\")\n",
    "\n",
    "# G matrix analysis\n",
    "G_diag = G.diagonal()\n",
    "print(f\"\\nG Matrix (Stiffness):\")\n",
    "print(f\"  Shape: {G.shape}\")\n",
    "print(f\"  Diagonal range: [{G_diag.min():.6f}, {G_diag.max():.6f}]\")\n",
    "print(f\"  Symmetric: {np.allclose(G.toarray(), G.toarray().T)}\")\n",
    "print(f\"  Positive semi-definite: {np.all(G_diag >= 0)}\")\n",
    "\n",
    "# A matrix analysis\n",
    "row_sums = np.array(A.sum(axis=1)).flatten()\n",
    "print(f\"\\nA Matrix (Projector):\")\n",
    "print(f\"  Shape: {A.shape} (n_obs x n_mesh)\")\n",
    "print(f\"  Row sums range: [{row_sums.min():.6f}, {row_sums.max():.6f}]\")\n",
    "print(f\"  Rows sum to 1: {np.allclose(row_sums, 1.0)}\")\n",
    "print(f\"  Avg entries per observation: {A.nnz / A.shape[0]:.1f}\")\n",
    "\n",
    "# Q matrix analysis\n",
    "Q_diag = Q.diagonal()\n",
    "print(f\"\\nQ Matrix (Precision):\")\n",
    "print(f\"  Shape: {Q.shape}\")\n",
    "print(f\"  Diagonal range: [{Q_diag.min():.6f}, {Q_diag.max():.6f}]\")\n",
    "print(f\"  Symmetric: {np.allclose(Q.toarray(), Q.toarray().T)}\")\n",
    "print(f\"  Condition number estimate: {Q_diag.max() / Q_diag.min():.2e}\")"
   ]
  },
  {
   "cell_type": "markdown",
   "metadata": {},
   "source": [
    "### Export Matrices for Stan in CSR Format\n",
    "\n",
    "Stan's `csr_matrix_times_vector()` function requires CSR (Compressed Sparse Row) format for optimal performance. This is 10-100x faster than custom sparse matrix functions."
   ]
  },
  {
   "cell_type": "code",
   "execution_count": null,
   "metadata": {},
   "outputs": [],
   "source": [
    "def export_csr_for_stan(matrix, name, return_dict=True):\n",
    "    \"\"\"\n",
    "    Export sparse matrix in CSR format for Stan's csr_matrix_times_vector().\n",
    "    \n",
    "    Stan CSR format requires:\n",
    "    - w: values (non-zero entries)\n",
    "    - v: column indices (1-indexed)\n",
    "    - u: row start positions (1-indexed, length = n_rows + 1)\n",
    "    \"\"\"\n",
    "    # Convert to CSR format\n",
    "    mat_csr = matrix.tocsr()\n",
    "    \n",
    "    # Create dictionary with 1-indexed arrays (Stan uses 1-indexing)\n",
    "    stan_data = {\n",
    "        f'{name}_w': mat_csr.data,\n",
    "        f'{name}_v': (mat_csr.indices + 1).astype(int),  # column indices, 1-indexed\n",
    "        f'{name}_u': (mat_csr.indptr + 1).astype(int),   # row pointers, 1-indexed\n",
    "        f'{name}_nnz': int(mat_csr.nnz),\n",
    "        f'{name}_nrow': int(mat_csr.shape[0]),\n",
    "        f'{name}_ncol': int(mat_csr.shape[1])\n",
    "    }\n",
    "    \n",
    "    print(f\"Exported {name} matrix in CSR format:\")\n",
    "    print(f\"  Shape: {mat_csr.shape}\")\n",
    "    print(f\"  Non-zeros: {mat_csr.nnz:,}\")\n",
    "    print(f\"  Data arrays: {name}_w[{len(stan_data[f'{name}_w'])}], \"\n",
    "          f\"{name}_v[{len(stan_data[f'{name}_v'])}], \"\n",
    "          f\"{name}_u[{len(stan_data[f'{name}_u'])}]\")\n",
    "    \n",
    "    if return_dict:\n",
    "        return stan_data\n",
    "    else:\n",
    "        return mat_csr"
   ]
  },
  {
   "cell_type": "code",
   "execution_count": null,
   "metadata": {},
   "outputs": [],
   "source": [
    "# Export matrices for Stan\n",
    "print(\"Exporting matrices for Stan in CSR format...\\n\")\n",
    "\n",
    "# We only need A and Q for the basic SPDE model\n",
    "# C and G are used to construct Q, but not needed in Stan directly\n",
    "A_stan = export_csr_for_stan(A, \"A\")\n",
    "Q_stan = export_csr_for_stan(Q, \"Q\")\n",
    "\n",
    "# Combine all Stan data\n",
    "stan_data = {\n",
    "    'N_obs': int(len(clean_coords)),\n",
    "    'N_vertices': int(len(vertices)),\n",
    "    'N_countries': 3,\n",
    "    'y': pm25_clean,\n",
    "    'is_urban': is_urban_clean.astype(int),\n",
    "    'country': country_clean.astype(int),\n",
    "    'prior_mean': float(pm25_clean.mean()),\n",
    "    **A_stan,\n",
    "    **Q_stan\n",
    "}\n",
    "\n",
    "print(f\"\\nComplete Stan data dictionary prepared with {len(stan_data)} fields\")\n",
    "print(f\"Key dimensions: N_obs={stan_data['N_obs']}, N_vertices={stan_data['N_vertices']}\")"
   ]
  },
  {
   "cell_type": "markdown",
   "metadata": {},
   "source": [
    "### Export Data for Stan\n",
    "\n",
    "All preprocessed data and sparse matrices are saved in a single JSON file for use with the Stan model."
   ]
  },
  {
   "cell_type": "code",
   "execution_count": null,
   "metadata": {},
   "outputs": [],
   "source": [
    "# Save using CmdStanPy's write_stan_json for proper formatting\n",
    "from cmdstanpy import write_stan_json\n",
    "\n",
    "output_dir = Path(\"json_data\")\n",
    "output_dir.mkdir(exist_ok=True)\n",
    "\n",
    "# Save to JSON using CmdStanPy's function\n",
    "stan_json_path = output_dir / \"stan_data.json\"\n",
    "write_stan_json(stan_json_path, stan_data)\n",
    "\n",
    "print(f\"Stan data saved to {stan_json_path}\")\n",
    "print(f\"\\nThis file contains:\")\n",
    "print(f\"  - {stan_data['N_obs']} observations\")\n",
    "print(f\"  - {stan_data['N_vertices']} mesh vertices\")\n",
    "print(f\"  - Sparse matrix A: {A.shape} with {A.nnz:,} non-zeros\")\n",
    "print(f\"  - Sparse matrix Q: {Q.shape} with {Q.nnz:,} non-zeros\")\n",
    "print(f\"\\nReady for use with gp_pm25.stan model\")"
   ]
  },
  {
   "cell_type": "markdown",
   "metadata": {},
   "source": [
    "### Summary\n",
    "\n",
    "We've successfully:\n",
    "\n",
    "1. **Preprocessed coordinates** - Projected from lon/lat to appropriate map projection\n",
    "2. **Generated quality mesh** - Created triangulation with controlled quality\n",
    "3. **Computed FEM matrices** - Built C, G, A, Q matrices for SPDE approximation\n",
    "4. **Exported in CSR format** - Optimized sparse format for Stan's native functions\n",
    "\n",
    "The saved JSON file `json_data/stan_data.json` provides all inputs needed by the SPDE models."
   ]
  },
  {
   "cell_type": "code",
   "execution_count": null,
   "metadata": {},
   "outputs": [],
   "source": []
  }
 ],
 "metadata": {
  "kernelspec": {
   "display_name": "Python 3 (ipykernel)",
   "language": "python",
   "name": "python3"
  },
  "language_info": {
   "codemirror_mode": {
    "name": "ipython",
    "version": 3
   },
   "file_extension": ".py",
   "mimetype": "text/x-python",
   "name": "python",
   "nbconvert_exporter": "python",
   "pygments_lexer": "ipython3",
   "version": "3.12.2"
  }
 },
 "nbformat": 4,
 "nbformat_minor": 4
}
