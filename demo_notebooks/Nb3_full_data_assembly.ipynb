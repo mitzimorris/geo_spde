{
 "cells": [
  {
   "cell_type": "markdown",
   "metadata": {},
   "source": [
    "## Step 3: Build spare matrices using FEM approximation\n",
    "\n",
    "This notebook performs the **data preprocessing and assembly** step for SPDE spatial models:\n",
    "\n",
    "1. **Coordinate preprocessing** - Projects geographic coordinates and removes duplicates\n",
    "2. **Mesh generation** - Creates quality triangulation for FEM approximation  \n",
    "3. **FEM matrix computation** - Builds sparse matrices (C, G, A, Q) for SPDE\n",
    "4. **Data export** - Saves matrices in CSR format for efficient Stan computation\n",
    "\n",
    "**Output**: A JSON file (`stan_data.json`) containing all preprocessed data and sparse matrices ready for Stan modeling.\n",
    "\n",
    "**Note**: The Stan model implementation and SPDE theory are explained in a separate notebook."
   ]
  },
  {
   "cell_type": "markdown",
   "metadata": {},
   "source": [
    "#### Libraries"
   ]
  },
  {
   "cell_type": "code",
   "execution_count": 1,
   "metadata": {},
   "outputs": [],
   "source": [
    "import os\n",
    "import sys\n",
    "from pathlib import Path\n",
    "import numpy as np\n",
    "import pandas as pd\n",
    "import matplotlib.pyplot as plt\n",
    "from scipy import sparse\n",
    "import warnings\n",
    "\n",
    "# Add parent directory to path to import geo_spde\n",
    "sys.path.insert(0, str(Path.cwd().parent))\n",
    "\n",
    "from geo_spde.coords import preprocess_coords\n",
    "from geo_spde.mesh import SPDEMesh\n",
    "from geo_spde.matrices import compute_fem_matrices, compute_spde_matrices_from_mesh\n",
    "from geo_spde.exceptions import CoordsError, MeshError, MatrixError"
   ]
  },
  {
   "cell_type": "markdown",
   "metadata": {},
   "source": [
    "#### Load PM2.5 Data"
   ]
  },
  {
   "cell_type": "code",
   "execution_count": 3,
   "metadata": {},
   "outputs": [
    {
     "name": "stdout",
     "output_type": "stream",
     "text": [
      "Loaded 1326 ground monitor observations\n"
     ]
    },
    {
     "data": {
      "text/html": [
       "<div>\n",
       "<style scoped>\n",
       "    .dataframe tbody tr th:only-of-type {\n",
       "        vertical-align: middle;\n",
       "    }\n",
       "\n",
       "    .dataframe tbody tr th {\n",
       "        vertical-align: top;\n",
       "    }\n",
       "\n",
       "    .dataframe thead th {\n",
       "        text-align: right;\n",
       "    }\n",
       "</style>\n",
       "<table border=\"1\" class=\"dataframe\">\n",
       "  <thead>\n",
       "    <tr style=\"text-align: right;\">\n",
       "      <th></th>\n",
       "      <th>Year</th>\n",
       "      <th>CityReverseGeocoded</th>\n",
       "      <th>Longitude</th>\n",
       "      <th>Latitude</th>\n",
       "      <th>log_PM25</th>\n",
       "      <th>is_urban</th>\n",
       "      <th>country</th>\n",
       "    </tr>\n",
       "  </thead>\n",
       "  <tbody>\n",
       "    <tr>\n",
       "      <th>0</th>\n",
       "      <td>2018</td>\n",
       "      <td>Whitehorse</td>\n",
       "      <td>-135.0588</td>\n",
       "      <td>60.71972</td>\n",
       "      <td>1.098612</td>\n",
       "      <td>0</td>\n",
       "      <td>14</td>\n",
       "    </tr>\n",
       "    <tr>\n",
       "      <th>1</th>\n",
       "      <td>2019</td>\n",
       "      <td>Houston</td>\n",
       "      <td>-126.6468</td>\n",
       "      <td>54.39859</td>\n",
       "      <td>2.397895</td>\n",
       "      <td>0</td>\n",
       "      <td>14</td>\n",
       "    </tr>\n",
       "    <tr>\n",
       "      <th>2</th>\n",
       "      <td>2019</td>\n",
       "      <td>Fort Mackay</td>\n",
       "      <td>-111.6424</td>\n",
       "      <td>57.14920</td>\n",
       "      <td>1.945910</td>\n",
       "      <td>0</td>\n",
       "      <td>14</td>\n",
       "    </tr>\n",
       "  </tbody>\n",
       "</table>\n",
       "</div>"
      ],
      "text/plain": [
       "   Year CityReverseGeocoded  Longitude  Latitude  log_PM25  is_urban  country\n",
       "0  2018          Whitehorse  -135.0588  60.71972  1.098612         0       14\n",
       "1  2019             Houston  -126.6468  54.39859  2.397895         0       14\n",
       "2  2019         Fort Mackay  -111.6424  57.14920  1.945910         0       14"
      ]
     },
     "execution_count": 3,
     "metadata": {},
     "output_type": "execute_result"
    }
   ],
   "source": [
    "# Load PM2.5 ground monitor data\n",
    "north_america_log_pm25 = pd.read_csv('north_america_log_pm25.csv')\n",
    "print(f\"Loaded {len(north_america_log_pm25)} ground monitor observations\")\n",
    "north_america_log_pm25.head(3)"
   ]
  },
  {
   "cell_type": "code",
   "execution_count": 4,
   "metadata": {},
   "outputs": [
    {
     "name": "stdout",
     "output_type": "stream",
     "text": [
      "log_PM2.5 range: -0.1 - 3.6\n",
      "Mean log PM2.5: 2.0 +/- 0.4\n"
     ]
    }
   ],
   "source": [
    "# Extract coordinates and values\n",
    "log_pm25_coords = north_america_log_pm25[['Longitude','Latitude']].to_numpy()\n",
    "log_pm25 = north_america_log_pm25['log_PM25'].to_numpy()\n",
    "\n",
    "print(f\"log_PM2.5 range: {log_pm25.min():.1f} - {log_pm25.max():.1f}\")\n",
    "print(f\"Mean log PM2.5: {log_pm25.mean():.1f} +/- {log_pm25.std():.1f}\")"
   ]
  },
  {
   "cell_type": "markdown",
   "metadata": {},
   "source": [
    "### Step 1: Coordinate Preprocessing"
   ]
  },
  {
   "cell_type": "code",
   "execution_count": 7,
   "metadata": {},
   "outputs": [
    {
     "name": "stdout",
     "output_type": "stream",
     "text": [
      "Detected geographic coordinates (lon/lat)\n",
      "Auto-detected scale: multi_region (diameter ≈ 9613.2 km)\n",
      "Projected to: Albers Equal-Area Conic\n",
      "Characteristic spatial scale: 80939.108 meters\n",
      "Recommended mesh edge length: 24281.732\n",
      "Coordinate preprocessing complete: 1326 -> 1326 points\n",
      "Projected extent: 5715948 × 6163492 meters\n"
     ]
    }
   ],
   "source": [
    "# Preprocess coordinates with automatic projection\n",
    "clean_coords, indices, proj_info = preprocess_coords(\n",
    "    log_pm25_coords, \n",
    "    remove_duplicates=True  # Remove exact duplicates\n",
    ")"
   ]
  },
  {
   "cell_type": "code",
   "execution_count": 15,
   "metadata": {},
   "outputs": [
    {
     "name": "stdout",
     "output_type": "stream",
     "text": [
      "<class 'numpy.ndarray'>\n",
      "(1326, 2)\n",
      "[[-2145382.51787756  2903673.15439605]\n",
      " [-1974299.6774621   2052119.73327032]\n",
      " [-1005485.8134444   2101192.53140281]\n",
      " [-1004503.87390223  2105641.34207817]\n",
      " [-1060770.99739024  1771198.81490621]]\n",
      "<class 'numpy.ndarray'>\n",
      "(1326,)\n",
      "[0 1 2 3 4]\n",
      "{'proj4_string': '+proj=aea +lat_1=25.60 +lat_2=59.81 +lat_0=39.81 +lon_0=-94.64 +datum=WGS84 +units=m +no_defs', 'system': 'Albers Equal-Area Conic', 'scale': 'multi_region', 'projected_bbox': (-2809016.9604329993, -2539374.439507584, 2906930.6157533405, 3624117.5033260267), 'hull_diameter_km': 9613.205138172383, 'antimeridian_crossing': False, 'scale_estimates': {'characteristic_scale': 80939.10792436241, 'min_distance': 194.13729628183376, 'median_distance': 1942619.9336204669, 'mesh_recommended_edge': 24281.732377308723}, 'normalized': False, 'transform_info': None, 'coordinate_units': 'meters', 'unit_to_km': 0.001}\n"
     ]
    }
   ],
   "source": [
    "print(type(clean_coords))\n",
    "print(clean_coords.shape)\n",
    "print(clean_coords[:5, :])\n",
    "print(type(indices))\n",
    "print(indices.shape)\n",
    "print(indices[:5])\n",
    "print(proj_info)"
   ]
  },
  {
   "cell_type": "code",
   "execution_count": null,
   "metadata": {},
   "outputs": [],
   "source": []
  },
  {
   "cell_type": "code",
   "execution_count": null,
   "metadata": {},
   "outputs": [],
   "source": []
  },
  {
   "cell_type": "code",
   "execution_count": 7,
   "metadata": {},
   "outputs": [
    {
     "name": "stdout",
     "output_type": "stream",
     "text": [
      "Detected geographic coordinates (lon/lat)\n",
      "Auto-detected scale: multi_region (diameter ≈ 9613.2 km)\n",
      "Projected to: Albers Equal-Area Conic\n",
      "Coordinate preprocessing complete: 1326 -> 1326 points\n",
      "Projected extent: 5715948 × 6163492 meters\n",
      "\n",
      "Retained 1326 unique observation locations\n"
     ]
    }
   ],
   "source": [
    "# Preprocess coordinates with automatic projection\n",
    "clean_coords, indices, proj_info = preprocess_coords(\n",
    "    log_pm25_coords, \n",
    "    remove_duplicates=True  # Remove exact duplicates\n",
    ")\n",
    "\n",
    "# Get cleaned observations\n",
    "north_america_log_pm25_clean = north_america_log_pm25.iloc[indices].copy()\n",
    "log_pm25_clean = log_pm25[indices]\n",
    "\n",
    "print(f\"\\nRetained {len(clean_coords)} unique observation locations\")"
   ]
  },
  {
   "cell_type": "markdown",
   "metadata": {},
   "source": [
    "### Step 2: Mesh Generation"
   ]
  },
  {
   "cell_type": "code",
   "execution_count": null,
   "metadata": {},
   "outputs": [],
   "source": [
    "# Create mesh with data-adaptive parameters\n",
    "mesh = SPDEMesh(clean_coords, proj_info)\n",
    "\n",
    "# Generate mesh (adjust target_edge_factor for resolution)\n",
    "vertices, triangles = mesh.create_mesh(\n",
    "    extension_factor=0.2,\n",
    "    target_edge_factor=0.3,   # see comparison in Nb2\n",
    "    min_angle=20.0,          # Minimum triangle angle for stability\n",
    "    verbose=True\n",
    ")"
   ]
  },
  {
   "cell_type": "markdown",
   "metadata": {},
   "source": [
    "### Step 3: Compute FEM Matrices\n",
    "\n",
    "We compute four key matrices:\n",
    "- **C**: Mass matrix (identity operator discretization)\n",
    "- **G**: Stiffness matrix (Laplacian operator discretization)\n",
    "- **A**: Projector matrix (mesh to observations)\n",
    "- **Q**: Precision matrix (for SPDE prior)"
   ]
  },
  {
   "cell_type": "code",
   "execution_count": null,
   "metadata": {},
   "outputs": [],
   "source": [
    "# Choose SPDE parameters\n",
    "# Range parameter: controls spatial correlation distance\n",
    "# Typical range = 10-20% of domain size\n",
    "domain_size = np.sqrt(\n",
    "    (clean_coords[:, 0].max() - clean_coords[:, 0].min()) * \n",
    "    (clean_coords[:, 1].max() - clean_coords[:, 1].min())\n",
    ")\n",
    "typical_range = domain_size * 0.2\n",
    "kappa = 1.0 / typical_range  # For Matérn nu=1/2\n",
    "\n",
    "print(f\"Domain size: {domain_size/1000:.0f} km\")\n",
    "print(f\"Correlation range: {typical_range/1000:.0f} km\")\n",
    "print(f\"Kappa parameter: {kappa:.2e}\")"
   ]
  },
  {
   "cell_type": "code",
   "execution_count": null,
   "metadata": {},
   "outputs": [],
   "source": [
    "# Compute matrices for Matérn nu=1/2 (alpha=1)\n",
    "C, G, A, Q = compute_spde_matrices_from_mesh(\n",
    "    mesh,\n",
    "    kappa=kappa,\n",
    "    alpha=1,  # Matérn nu=1/2 (exponential covariance)\n",
    "    verbose=True\n",
    ")"
   ]
  },
  {
   "cell_type": "code",
   "execution_count": null,
   "metadata": {},
   "outputs": [],
   "source": [
    "# Compute matrices for Matérn nu=3/2 (alpha=2)\n",
    "# C, G, A, Q = compute_spde_matrices_from_mesh(\n",
    "#    mesh,\n",
    "#    kappa=kappa,\n",
    "#    alpha=2,  # Matérn nu=3/2 (smooth covariance)\n",
    "#    verbose=True\n",
    "#)"
   ]
  },
  {
   "cell_type": "markdown",
   "metadata": {},
   "source": [
    "### Visualize Matrix Sparsity Patterns"
   ]
  },
  {
   "cell_type": "code",
   "execution_count": null,
   "metadata": {},
   "outputs": [],
   "source": [
    "# Create sparsity pattern plots\n",
    "fig, axes = plt.subplots(2, 2, figsize=(12, 10))\n",
    "\n",
    "# C matrix (Mass matrix)\n",
    "axes[0, 0].spy(C, markersize=0.5, color='blue')\n",
    "axes[0, 0].set_title(f'C Matrix (Mass)\\n{C.nnz:,} non-zeros ({C.nnz/(C.shape[0]*C.shape[1])*100:.2f}% dense)')\n",
    "axes[0, 0].set_xlabel('Vertex index')\n",
    "axes[0, 0].set_ylabel('Vertex index')\n",
    "\n",
    "# G matrix (Stiffness matrix)\n",
    "axes[0, 1].spy(G, markersize=0.5, color='red')\n",
    "axes[0, 1].set_title(f'G Matrix (Stiffness)\\n{G.nnz:,} non-zeros ({G.nnz/(G.shape[0]*G.shape[1])*100:.2f}% dense)')\n",
    "axes[0, 1].set_xlabel('Vertex index')\n",
    "axes[0, 1].set_ylabel('Vertex index')\n",
    "\n",
    "# A matrix (Projector matrix)\n",
    "axes[1, 0].spy(A, markersize=0.5, color='green')\n",
    "axes[1, 0].set_title(f'A Matrix (Projector)\\n{A.nnz:,} non-zeros ({A.nnz/(A.shape[0]*A.shape[1])*100:.3f}% dense)')\n",
    "axes[1, 0].set_xlabel('Mesh vertex index')\n",
    "axes[1, 0].set_ylabel('Observation index')\n",
    "\n",
    "# Q matrix (Precision matrix)\n",
    "axes[1, 1].spy(Q, markersize=0.5, color='purple')\n",
    "axes[1, 1].set_title(f'Q Matrix (Precision)\\n{Q.nnz:,} non-zeros ({Q.nnz/(Q.shape[0]*Q.shape[1])*100:.2f}% dense)')\n",
    "axes[1, 1].set_xlabel('Vertex index')\n",
    "axes[1, 1].set_ylabel('Vertex index')\n",
    "\n",
    "plt.tight_layout()\n",
    "plt.show()"
   ]
  },
  {
   "cell_type": "markdown",
   "metadata": {},
   "source": [
    "### Matrix Properties Analysis"
   ]
  },
  {
   "cell_type": "code",
   "execution_count": null,
   "metadata": {},
   "outputs": [],
   "source": [
    "# Analyze matrix properties\n",
    "print(\"Matrix Properties:\")\n",
    "print(\"=\"*50)\n",
    "\n",
    "# C matrix analysis\n",
    "C_diag = C.diagonal()\n",
    "print(f\"\\nC Matrix (Mass):\")\n",
    "print(f\"  Shape: {C.shape}\")\n",
    "print(f\"  Diagonal range: [{C_diag.min():.6f}, {C_diag.max():.6f}]\")\n",
    "print(f\"  Symmetric: {np.allclose(C.toarray(), C.toarray().T)}\")\n",
    "print(f\"  Positive definite: {np.all(C_diag > 0)}\")\n",
    "\n",
    "# G matrix analysis\n",
    "G_diag = G.diagonal()\n",
    "print(f\"\\nG Matrix (Stiffness):\")\n",
    "print(f\"  Shape: {G.shape}\")\n",
    "print(f\"  Diagonal range: [{G_diag.min():.6f}, {G_diag.max():.6f}]\")\n",
    "print(f\"  Symmetric: {np.allclose(G.toarray(), G.toarray().T)}\")\n",
    "print(f\"  Positive semi-definite: {np.all(G_diag >= 0)}\")\n",
    "\n",
    "# A matrix analysis\n",
    "row_sums = np.array(A.sum(axis=1)).flatten()\n",
    "print(f\"\\nA Matrix (Projector):\")\n",
    "print(f\"  Shape: {A.shape} (n_obs x n_mesh)\")\n",
    "print(f\"  Row sums range: [{row_sums.min():.6f}, {row_sums.max():.6f}]\")\n",
    "print(f\"  Rows sum to 1: {np.allclose(row_sums, 1.0)}\")\n",
    "print(f\"  Avg entries per observation: {A.nnz / A.shape[0]:.1f}\")\n",
    "\n",
    "# Q matrix analysis\n",
    "Q_diag = Q.diagonal()\n",
    "print(f\"\\nQ Matrix (Precision):\")\n",
    "print(f\"  Shape: {Q.shape}\")\n",
    "print(f\"  Diagonal range: [{Q_diag.min():.6f}, {Q_diag.max():.6f}]\")\n",
    "print(f\"  Symmetric: {np.allclose(Q.toarray(), Q.toarray().T)}\")\n",
    "print(f\"  Condition number estimate: {Q_diag.max() / Q_diag.min():.2e}\")"
   ]
  },
  {
   "cell_type": "markdown",
   "metadata": {},
   "source": [
    "### Export Matrices for Stan in CSR Format\n",
    "\n",
    "Stan's `csr_matrix_times_vector()` function requires CSR (Compressed Sparse Row) format for optimal performance. This is 10-100x faster than custom sparse matrix functions."
   ]
  },
  {
   "cell_type": "code",
   "execution_count": null,
   "metadata": {},
   "outputs": [],
   "source": [
    "def export_csr_for_stan(matrix, name, return_dict=True):\n",
    "    \"\"\"\n",
    "    Export sparse matrix in CSR format for Stan's csr_matrix_times_vector().\n",
    "    \n",
    "    Stan CSR format requires:\n",
    "    - w: values (non-zero entries)\n",
    "    - v: column indices (1-indexed)\n",
    "    - u: row start positions (1-indexed, length = n_rows + 1)\n",
    "    \"\"\"\n",
    "    # Convert to CSR format\n",
    "    mat_csr = matrix.tocsr()\n",
    "    \n",
    "    # Create dictionary with 1-indexed arrays (Stan uses 1-indexing)\n",
    "    stan_data = {\n",
    "        f'{name}_w': mat_csr.data,\n",
    "        f'{name}_v': (mat_csr.indices + 1).astype(int),  # column indices, 1-indexed\n",
    "        f'{name}_u': (mat_csr.indptr + 1).astype(int),   # row pointers, 1-indexed\n",
    "        f'{name}_nnz': int(mat_csr.nnz),\n",
    "        f'{name}_nrow': int(mat_csr.shape[0]),\n",
    "        f'{name}_ncol': int(mat_csr.shape[1])\n",
    "    }\n",
    "    \n",
    "    print(f\"Exported {name} matrix in CSR format:\")\n",
    "    print(f\"  Shape: {mat_csr.shape}\")\n",
    "    print(f\"  Non-zeros: {mat_csr.nnz:,}\")\n",
    "    print(f\"  Data arrays: {name}_w[{len(stan_data[f'{name}_w'])}], \"\n",
    "          f\"{name}_v[{len(stan_data[f'{name}_v'])}], \"\n",
    "          f\"{name}_u[{len(stan_data[f'{name}_u'])}]\")\n",
    "    \n",
    "    if return_dict:\n",
    "        return stan_data\n",
    "    else:\n",
    "        return mat_csr"
   ]
  },
  {
   "cell_type": "code",
   "execution_count": null,
   "metadata": {},
   "outputs": [],
   "source": [
    "# Export matrices for Stan\n",
    "print(\"Exporting matrices for Stan in CSR format...\\n\")\n",
    "\n",
    "# We only need A and Q for the basic SPDE model\n",
    "# C and G are used to construct Q, but not needed in Stan directly\n",
    "A_stan = export_csr_for_stan(A, \"A\")\n",
    "Q_stan = export_csr_for_stan(Q, \"Q\")\n",
    "\n",
    "# Combine all Stan data\n",
    "stan_data = {\n",
    "    'N_obs': int(len(clean_coords)),\n",
    "    'N_vertices': int(len(vertices)),\n",
    "    'N_countries': 3,\n",
    "    'y': log_pm25_clean,\n",
    "    'is_urban': is_urban_clean.astype(int),\n",
    "    'country': country_clean.astype(int),\n",
    "    'prior_mean': float(log_pm25_clean.mean()),\n",
    "    **A_stan,\n",
    "    **Q_stan\n",
    "}\n",
    "\n",
    "print(f\"\\nComplete Stan data dictionary prepared with {len(stan_data)} fields\")\n",
    "print(f\"Key dimensions: N_obs={stan_data['N_obs']}, N_vertices={stan_data['N_vertices']}\")"
   ]
  },
  {
   "cell_type": "markdown",
   "metadata": {},
   "source": [
    "### Export Data for Stan\n",
    "\n",
    "All preprocessed data and sparse matrices are saved in a single JSON file for use with the Stan model."
   ]
  },
  {
   "cell_type": "code",
   "execution_count": null,
   "metadata": {},
   "outputs": [],
   "source": [
    "# Save using CmdStanPy's write_stan_json for proper formatting\n",
    "from cmdstanpy import write_stan_json\n",
    "\n",
    "output_dir = Path(\"json_data\")\n",
    "output_dir.mkdir(exist_ok=True)\n",
    "\n",
    "# Save to JSON using CmdStanPy's function\n",
    "stan_json_path = output_dir / \"stan_data.json\"\n",
    "write_stan_json(stan_json_path, stan_data)\n",
    "\n",
    "print(f\"Stan data saved to {stan_json_path}\")\n",
    "print(f\"\\nThis file contains:\")\n",
    "print(f\"  - {stan_data['N_obs']} observations\")\n",
    "print(f\"  - {stan_data['N_vertices']} mesh vertices\")\n",
    "print(f\"  - Sparse matrix A: {A.shape} with {A.nnz:,} non-zeros\")\n",
    "print(f\"  - Sparse matrix Q: {Q.shape} with {Q.nnz:,} non-zeros\")\n",
    "print(f\"\\nReady for use with gp_pm25.stan model\")"
   ]
  },
  {
   "cell_type": "markdown",
   "metadata": {},
   "source": [
    "### Summary\n",
    "\n",
    "We've successfully:\n",
    "\n",
    "1. **Preprocessed coordinates** - Projected from lon/lat to appropriate map projection\n",
    "2. **Generated quality mesh** - Created triangulation with controlled quality\n",
    "3. **Computed FEM matrices** - Built C, G, A, Q matrices for SPDE approximation\n",
    "4. **Exported in CSR format** - Optimized sparse format for Stan's native functions\n",
    "\n",
    "The saved JSON file `json_data/stan_data.json` provides all inputs needed by the SPDE models."
   ]
  },
  {
   "cell_type": "code",
   "execution_count": null,
   "metadata": {},
   "outputs": [],
   "source": []
  }
 ],
 "metadata": {
  "kernelspec": {
   "display_name": "Python 3 (ipykernel)",
   "language": "python",
   "name": "python3"
  },
  "language_info": {
   "codemirror_mode": {
    "name": "ipython",
    "version": 3
   },
   "file_extension": ".py",
   "mimetype": "text/x-python",
   "name": "python",
   "nbconvert_exporter": "python",
   "pygments_lexer": "ipython3",
   "version": "3.12.2"
  }
 },
 "nbformat": 4,
 "nbformat_minor": 4
}
