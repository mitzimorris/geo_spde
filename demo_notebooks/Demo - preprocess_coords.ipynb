{
 "cells": [
  {
   "cell_type": "markdown",
   "id": "f93402ca-fa23-4949-b4be-d9e06f826704",
   "metadata": {},
   "source": [
    "## Demo geo_spde.preprocess_coords\n",
    "\n",
    "#### Libraries"
   ]
  },
  {
   "cell_type": "code",
   "execution_count": null,
   "id": "179d8784-b956-4adb-8dd6-afb5a1ca1c32",
   "metadata": {},
   "outputs": [],
   "source": [
    "import os\n",
    "import sys\n",
    "from pathlib import Path\n",
    "import numpy as np\n",
    "import pandas as pd\n",
    "import geopandas as gpd\n",
    "import geodatasets\n",
    "from plotnine import *\n",
    "\n",
    "from geo_spde.coords import preprocess_coords\n",
    "from geo_spde.exceptions import CoordsError"
   ]
  },
  {
   "cell_type": "markdown",
   "id": "0c9b3fb3-00bc-424a-b829-71e264deb30c",
   "metadata": {},
   "source": [
    "#### Geolocated data\n",
    "\n",
    "Taken from Shaddick et al 2016:  Ground monitor measurements from Canada, USA, Mexico"
   ]
  },
  {
   "cell_type": "code",
   "execution_count": null,
   "id": "535d0ba1-a3b0-4264-af05-e41469af7c21",
   "metadata": {},
   "outputs": [],
   "source": [
    "pm25 = pd.read_csv('north_america_pm25.csv')"
   ]
  },
  {
   "cell_type": "markdown",
   "id": "7eae490c-7334-4174-af3f-e9ae25b655b5",
   "metadata": {},
   "source": [
    "#### World map\n",
    "\n",
    "From naturalearth,  low res world map with country boundaries."
   ]
  },
  {
   "cell_type": "code",
   "execution_count": null,
   "id": "f5d9c1ff-87eb-43f4-8a96-210a040ad40b",
   "metadata": {},
   "outputs": [],
   "source": [
    "url = \"https://naciscdn.org/naturalearth/110m/cultural/ne_110m_admin_0_countries.zip\"\n",
    "world = gpd.read_file(url)\n",
    "sorted(world.keys())\n",
    "na_map = world[world['ISO_A3'].isin(['CAN', 'USA', 'MEX'])]\n",
    "na_map[['ISO_A3', 'ADMIN']]\n"
   ]
  },
  {
   "cell_type": "markdown",
   "id": "63b7d355-de25-45d9-8a9d-012c1edddd91",
   "metadata": {},
   "source": [
    "#### Plot raw data\n",
    "\n",
    "Show ground monitor measurements on map, raw coordinate system (lon/lat)"
   ]
  },
  {
   "cell_type": "code",
   "execution_count": null,
   "id": "326bdaf7-2a53-476d-b93c-e3e146cac441",
   "metadata": {},
   "outputs": [],
   "source": [
    "p1 = (ggplot() +\n",
    "         geom_map(na_map, fill='white', color='black', size=0.2) +\n",
    "         geom_point(data=pm25,\n",
    "                   mapping=aes(x='Longitude', y='Latitude', color='PM25'),\n",
    "                   size=0.1) +\n",
    "         scale_color_gradient2(low='blue', mid='lightgreen', high='darkorange',\n",
    "                               midpoint=15,  name='PM2.5') +\n",
    "         theme_minimal() +\n",
    "         labs(title=\"North America PM2.5 Locations, raw coords\") +\n",
    "         coord_fixed())\n",
    "\n",
    "p1"
   ]
  },
  {
   "cell_type": "markdown",
   "id": "c261f09b-04c5-4573-ac07-ba3b2eb7954e",
   "metadata": {},
   "source": [
    "### geo_spde.preprocess_coords\n",
    "\n",
    "Remove any duplicate observations, project lon/lat to appropriate map scale."
   ]
  },
  {
   "cell_type": "code",
   "execution_count": null,
   "id": "a35e98d5-b3c0-4155-adf9-64cf18bace29",
   "metadata": {},
   "outputs": [],
   "source": [
    "pm25_coords = pm25[['Longitude','Latitude']].to_numpy()\n",
    "clean_coords, indices, proj_info = preprocess_coords(pm25_coords)"
   ]
  },
  {
   "cell_type": "markdown",
   "id": "4870e36a-ff6c-4bbf-9f4b-ddd717204df3",
   "metadata": {},
   "source": [
    "### Plot preprocessed data"
   ]
  },
  {
   "cell_type": "code",
   "execution_count": null,
   "id": "9e1027ec-3fa7-44be-a86f-7b964f7cbcdc",
   "metadata": {},
   "outputs": [],
   "source": [
    "# Create dataframe with projected coordinates\n",
    "df_projected = pm25.iloc[indices].copy()\n",
    "df_projected['x_proj'] = clean_coords[:, 0]\n",
    "df_projected['y_proj'] = clean_coords[:, 1]\n",
    "df_projected.head(3)"
   ]
  },
  {
   "cell_type": "code",
   "execution_count": null,
   "id": "0c6df9d8-c884-4c59-8818-00b090f119a2",
   "metadata": {},
   "outputs": [],
   "source": [
    "# a. translate `na_map` to albers coords\n",
    "na_map_albers = na_map.to_crs(proj_info['proj4_string'])"
   ]
  },
  {
   "cell_type": "code",
   "execution_count": null,
   "id": "185d93c4-994a-4a55-ab4b-a472d4690f54",
   "metadata": {},
   "outputs": [],
   "source": [
    "p2 = (ggplot() +\n",
    "      geom_map(na_map_albers, fill='white', color='black', size=0.2) +\n",
    "      geom_point(data=df_projected,\n",
    "                 mapping=aes(x='x_proj', y='y_proj', color='PM25'),\n",
    "                 size=0.1) +\n",
    "         scale_color_gradient2(low='blue', mid='lightgreen', high='darkorange',\n",
    "                               midpoint=15,  name='PM2.5') +\n",
    "         theme_minimal() +\n",
    "         labs(title=\"North America PM2.5 Locations, Albers projection\") +\n",
    "         coord_fixed())\n",
    "\n",
    "p2"
   ]
  },
  {
   "cell_type": "markdown",
   "id": "d8ca965c-5b93-44e5-9c69-16e83025adbc",
   "metadata": {},
   "source": [
    "#### Compare to raw data"
   ]
  },
  {
   "cell_type": "code",
   "execution_count": null,
   "id": "39135b60-c596-4f20-b280-a80da6cd5969",
   "metadata": {},
   "outputs": [],
   "source": [
    "p1"
   ]
  },
  {
   "cell_type": "code",
   "execution_count": null,
   "id": "41ba68a2-c4e3-4f5e-bbae-1f51dc71a212",
   "metadata": {},
   "outputs": [],
   "source": []
  }
 ],
 "metadata": {
  "kernelspec": {
   "display_name": "Python 3 (ipykernel)",
   "language": "python",
   "name": "python3"
  },
  "language_info": {
   "codemirror_mode": {
    "name": "ipython",
    "version": 3
   },
   "file_extension": ".py",
   "mimetype": "text/x-python",
   "name": "python",
   "nbconvert_exporter": "python",
   "pygments_lexer": "ipython3",
   "version": "3.12.2"
  }
 },
 "nbformat": 4,
 "nbformat_minor": 5
}
