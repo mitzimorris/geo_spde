{
 "cells": [
  {
   "cell_type": "markdown",
   "id": "59c94aef-5a12-4c52-9026-a594673412d3",
   "metadata": {},
   "source": [
    "## Extract relevant information from WHOGMDatabase.csv - from Shaddick et al.\n",
    "\n",
    "* Find ground monitor locations which have reported PM25 values later than 2015\n",
    "* Get latest year\n",
    "* create categorical country code\n",
    "* add binary classification \"is_urban\"\n",
    "\n",
    "Creates two data files:\n",
    "\n",
    "* `world_pm25.csv`\n",
    "* `north_america_pm25.csv`\n"
   ]
  },
  {
   "cell_type": "code",
   "execution_count": null,
   "id": "03256e9d-7466-48c0-8f89-19672a405202",
   "metadata": {},
   "outputs": [],
   "source": [
    "import json\n",
    "import pandas as pd\n",
    "import numpy as np\n"
   ]
  },
  {
   "cell_type": "code",
   "execution_count": null,
   "id": "7450332e-78e1-48eb-81ba-8db608a7f433",
   "metadata": {},
   "outputs": [],
   "source": [
    "who_clean = pd.read_csv('WHOGMDatabase.csv', encoding = \"ISO-8859-1\")"
   ]
  },
  {
   "cell_type": "code",
   "execution_count": null,
   "id": "4d147d84-bae8-4b17-9729-dd65d31c2ed7",
   "metadata": {},
   "outputs": [],
   "source": [
    "who_clean.keys()\n",
    "world = who_clean.drop(columns=['StationIDOrig',\n",
    "    'StationIDOldDatabase', 'City', 'CityGiulia', 'CityClean',\n",
    "    'PM25PercCoverage', 'PM25Grading',\n",
    "    'PM10', 'PM10PercCoverage', 'PM10Grading',\n",
    "    'LocationInfo', 'Source', 'MonitorTypeOrig', 'PM25Conv',                           \n",
    "    'UnspecifiedType', 'WebLink', 'Version', 'WHOStatus', 'WHORegion',\n",
    "    'WHOIncomeRegion', 'SDG1Region', 'SDG2Region', 'SDG3Region',\n",
    "    'GBDRegion', 'GBDSuperRegion'], axis= 1)"
   ]
  },
  {
   "cell_type": "code",
   "execution_count": null,
   "id": "dd063951-5741-4acc-9c8a-b02c00eb345e",
   "metadata": {},
   "outputs": [],
   "source": [
    "world.keys()"
   ]
  },
  {
   "cell_type": "code",
   "execution_count": null,
   "id": "b2500931-8ebf-4c21-807f-f16bd1ee2fc8",
   "metadata": {},
   "outputs": [],
   "source": [
    "print(world.shape)\n",
    "world = world[world['Year']>2015]\n",
    "print(world.shape)"
   ]
  },
  {
   "cell_type": "code",
   "execution_count": null,
   "id": "f20e1c1f-3926-4e42-85bf-1b72b93dbf46",
   "metadata": {},
   "outputs": [],
   "source": [
    "world = world.dropna(subset =['PM25'])\n",
    "world.shape"
   ]
  },
  {
   "cell_type": "code",
   "execution_count": null,
   "id": "29388c1a-56a2-44d1-b341-7c23c87597c8",
   "metadata": {},
   "outputs": [],
   "source": [
    "world = world.groupby(['StationID']).apply(lambda x: x.loc[x['Year'].idxmax()], include_groups=False).reset_index(drop=True)\n",
    "world.shape\n"
   ]
  },
  {
   "cell_type": "code",
   "execution_count": null,
   "id": "a5aae86f-19f9-4cf2-84cf-a00d9b06d9b0",
   "metadata": {},
   "outputs": [],
   "source": [
    "world['is_urban'] = np.where(world['MonitorType'].isin(['Urban', 'urban', 'Industrial', 'industrial']), 1, 0)\n",
    "world['country'] = world['ISO3'].astype('category').cat.codes + 1\n"
   ]
  },
  {
   "cell_type": "code",
   "execution_count": null,
   "id": "78958f83-44cc-4c9c-9509-64fa9473fcc9",
   "metadata": {},
   "outputs": [],
   "source": [
    "world"
   ]
  },
  {
   "cell_type": "code",
   "execution_count": null,
   "id": "0b4d6bc6-5b4a-4905-bdf5-0d6134217a0c",
   "metadata": {},
   "outputs": [],
   "source": [
    "import csv\n",
    "world.to_csv('world_pm25.csv', \n",
    "             columns=['Year', 'CityReverseGeocoded', 'Longitude', 'Latitude', \n",
    "                      'PM25', 'is_urban', 'country'], \n",
    "                     quoting=csv.QUOTE_NONNUMERIC, index=False)"
   ]
  },
  {
   "cell_type": "code",
   "execution_count": null,
   "id": "66666cf0-31aa-4f2b-a3b2-a0c7186a222f",
   "metadata": {},
   "outputs": [],
   "source": [
    "na_slice = world[world['ISO3'].isin(['CAN','USA','MEX'])]\n",
    "north_america = na_slice.copy(deep=True).reset_index(drop=True)\n",
    "north_america['country'] = north_america['ISO3'].astype('category').cat.codes + 1"
   ]
  },
  {
   "cell_type": "code",
   "execution_count": null,
   "id": "b8f87d5e-fcad-46d7-80c9-9a2d7933f615",
   "metadata": {},
   "outputs": [],
   "source": [
    "north_america.head(3)"
   ]
  },
  {
   "cell_type": "code",
   "execution_count": null,
   "id": "2bd6657f-7508-4e52-bbcc-86104d25c8f9",
   "metadata": {},
   "outputs": [],
   "source": [
    "north_america.tail(3)"
   ]
  },
  {
   "cell_type": "code",
   "execution_count": null,
   "id": "aa5dff72-477d-4dc0-a8c7-f7fcce5fb134",
   "metadata": {},
   "outputs": [],
   "source": [
    "north_america.shape"
   ]
  },
  {
   "cell_type": "code",
   "execution_count": null,
   "id": "bab733a7-b7e0-44f2-9b19-1fef892c7293",
   "metadata": {},
   "outputs": [],
   "source": [
    "north_america.to_csv('north_america_pm25.csv', \n",
    "             columns=['Year', 'CityReverseGeocoded', 'Longitude', 'Latitude', \n",
    "                      'PM25', 'is_urban', 'country'], \n",
    "                     quoting=csv.QUOTE_NONNUMERIC, index=False)"
   ]
  }
 ],
 "metadata": {
  "kernelspec": {
   "display_name": "Python 3 (ipykernel)",
   "language": "python",
   "name": "python3"
  },
  "language_info": {
   "codemirror_mode": {
    "name": "ipython",
    "version": 3
   },
   "file_extension": ".py",
   "mimetype": "text/x-python",
   "name": "python",
   "nbconvert_exporter": "python",
   "pygments_lexer": "ipython3",
   "version": "3.12.2"
  }
 },
 "nbformat": 4,
 "nbformat_minor": 5
}
