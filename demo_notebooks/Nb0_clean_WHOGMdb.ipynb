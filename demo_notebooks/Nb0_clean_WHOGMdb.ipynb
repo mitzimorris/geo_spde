{
 "cells": [
  {
   "cell_type": "markdown",
   "id": "59c94aef-5a12-4c52-9026-a594673412d3",
   "metadata": {},
   "source": [
    "## Extract relevant information from WHOGMDatabase.csv - from Shaddick et al.\n",
    "\n",
    "* Find ground monitor locations which have reported PM25 values later than 2015\n",
    "* Get latest year\n",
    "* create categorical country code\n",
    "* add binary classification \"is_urban\"\n",
    "\n",
    "Creates two data files:\n",
    "\n",
    "* `world_pm25.csv`\n",
    "* `north_america_pm25.csv`\n"
   ]
  },
  {
   "cell_type": "code",
   "execution_count": 1,
   "id": "03256e9d-7466-48c0-8f89-19672a405202",
   "metadata": {},
   "outputs": [],
   "source": [
    "import json\n",
    "import pandas as pd\n",
    "import numpy as np\n"
   ]
  },
  {
   "cell_type": "code",
   "execution_count": 2,
   "id": "7450332e-78e1-48eb-81ba-8db608a7f433",
   "metadata": {},
   "outputs": [],
   "source": [
    "who_clean = pd.read_csv('WHOGMDatabase.csv', encoding = \"ISO-8859-1\")"
   ]
  },
  {
   "cell_type": "code",
   "execution_count": 3,
   "id": "34601b10-2a3e-4b90-801a-3583dc54918b",
   "metadata": {},
   "outputs": [
    {
     "data": {
      "text/plain": [
       "Index(['ISO3', 'CountryName', 'Year', 'StationID', 'StationIDOrig',\n",
       "       'StationIDOldDatabase', 'City', 'CityReverseGeocoded', 'CityGiulia',\n",
       "       'CityClean', 'Longitude', 'Latitude', 'PM25', 'PM25PercCoverage',\n",
       "       'PM25Grading', 'PM10', 'PM10PercCoverage', 'PM10Grading',\n",
       "       'LocationInfo', 'Source', 'MonitorType', 'MonitorTypeOrig', 'PM25Conv',\n",
       "       'UnspecifiedType', 'WebLink', 'Version', 'WHOStatus', 'WHORegion',\n",
       "       'WHOIncomeRegion', 'SDG1Region', 'SDG2Region', 'SDG3Region',\n",
       "       'GBDRegion', 'GBDSuperRegion'],\n",
       "      dtype='object')"
      ]
     },
     "execution_count": 3,
     "metadata": {},
     "output_type": "execute_result"
    }
   ],
   "source": [
    "who_clean.keys()"
   ]
  },
  {
   "cell_type": "code",
   "execution_count": 15,
   "id": "e2266b4c-aa9a-4e37-9d54-8aac2df0d16c",
   "metadata": {},
   "outputs": [
    {
     "data": {
      "text/plain": [
       "array(['South Asia', 'Central Europe, Eastern Europe and Central Asia',\n",
       "       'High income', 'North Africa / Middle East',\n",
       "       'Latin America and Caribbean',\n",
       "       'Southeast Asia, East Asia and Oceania', 'Sub-Saharan Africa'],\n",
       "      dtype=object)"
      ]
     },
     "execution_count": 15,
     "metadata": {},
     "output_type": "execute_result"
    }
   ],
   "source": [
    "who_clean['GBDSuperRegion'].unique()"
   ]
  },
  {
   "cell_type": "code",
   "execution_count": 17,
   "id": "15823972-4e76-4689-93be-0b9f169d6ed1",
   "metadata": {},
   "outputs": [
    {
     "data": {
      "text/plain": [
       "array(['Southern Asia', 'Europe', 'Western Asia',\n",
       "       'Latin America and the Caribbean', 'Oceania', 'South-eastern Asia',\n",
       "       'Northern America', 'Eastern Asia', 'Sub-Saharan Africa',\n",
       "       'Northern Africa', 'Central Asia'], dtype=object)"
      ]
     },
     "execution_count": 17,
     "metadata": {},
     "output_type": "execute_result"
    }
   ],
   "source": [
    "who_clean['SDG2Region'].unique()"
   ]
  },
  {
   "cell_type": "code",
   "execution_count": null,
   "id": "87d2d22d-64df-4244-ade0-9239102bb258",
   "metadata": {},
   "outputs": [],
   "source": []
  },
  {
   "cell_type": "code",
   "execution_count": 18,
   "id": "448c009a-10ce-4c7a-bddd-13a9297ccd0b",
   "metadata": {},
   "outputs": [],
   "source": [
    "world = who_clean.drop(columns=['StationIDOrig',\n",
    "    'StationIDOldDatabase', 'City', 'CityGiulia', 'CityClean',\n",
    "    'PM25PercCoverage', 'PM25Grading',\n",
    "    'PM10', 'PM10PercCoverage', 'PM10Grading',\n",
    "    'LocationInfo', 'Source', 'MonitorTypeOrig', 'PM25Conv',                           \n",
    "    'UnspecifiedType', 'WebLink', 'Version', 'WHOStatus', 'WHORegion',\n",
    "    'WHOIncomeRegion', 'SDG1Region', 'SDG3Region',\n",
    "    'GBDRegion', 'GBDSuperRegion'], axis= 1)"
   ]
  },
  {
   "cell_type": "code",
   "execution_count": 19,
   "id": "dd063951-5741-4acc-9c8a-b02c00eb345e",
   "metadata": {},
   "outputs": [
    {
     "data": {
      "text/plain": [
       "Index(['ISO3', 'CountryName', 'Year', 'StationID', 'CityReverseGeocoded',\n",
       "       'Longitude', 'Latitude', 'PM25', 'MonitorType', 'SDG2Region'],\n",
       "      dtype='object')"
      ]
     },
     "execution_count": 19,
     "metadata": {},
     "output_type": "execute_result"
    }
   ],
   "source": [
    "world.keys()"
   ]
  },
  {
   "cell_type": "code",
   "execution_count": 20,
   "id": "b2500931-8ebf-4c21-807f-f16bd1ee2fc8",
   "metadata": {},
   "outputs": [
    {
     "name": "stdout",
     "output_type": "stream",
     "text": [
      "(65428, 10)\n",
      "(31454, 10)\n"
     ]
    }
   ],
   "source": [
    "print(world.shape)\n",
    "world = world[world['Year']>2015]\n",
    "print(world.shape)"
   ]
  },
  {
   "cell_type": "code",
   "execution_count": 21,
   "id": "f20e1c1f-3926-4e42-85bf-1b72b93dbf46",
   "metadata": {},
   "outputs": [
    {
     "data": {
      "text/plain": [
       "(20359, 10)"
      ]
     },
     "execution_count": 21,
     "metadata": {},
     "output_type": "execute_result"
    }
   ],
   "source": [
    "world = world.dropna(subset =['PM25'])\n",
    "world.shape"
   ]
  },
  {
   "cell_type": "code",
   "execution_count": 22,
   "id": "29388c1a-56a2-44d1-b341-7c23c87597c8",
   "metadata": {},
   "outputs": [
    {
     "data": {
      "text/plain": [
       "(6495, 9)"
      ]
     },
     "execution_count": 22,
     "metadata": {},
     "output_type": "execute_result"
    }
   ],
   "source": [
    "world = world.groupby(['StationID']).apply(lambda x: x.loc[x['Year'].idxmax()], include_groups=False).reset_index(drop=True)\n",
    "world.shape\n"
   ]
  },
  {
   "cell_type": "code",
   "execution_count": 23,
   "id": "a5aae86f-19f9-4cf2-84cf-a00d9b06d9b0",
   "metadata": {},
   "outputs": [],
   "source": [
    "world['is_urban'] = np.where(world['MonitorType'].isin(['Urban', 'urban', 'Industrial', 'industrial']), 1, 0)\n",
    "world['country'] = world['ISO3'].astype('category').cat.codes + 1\n"
   ]
  },
  {
   "cell_type": "code",
   "execution_count": 24,
   "id": "78958f83-44cc-4c9c-9509-64fa9473fcc9",
   "metadata": {},
   "outputs": [
    {
     "data": {
      "text/html": [
       "<div>\n",
       "<style scoped>\n",
       "    .dataframe tbody tr th:only-of-type {\n",
       "        vertical-align: middle;\n",
       "    }\n",
       "\n",
       "    .dataframe tbody tr th {\n",
       "        vertical-align: top;\n",
       "    }\n",
       "\n",
       "    .dataframe thead th {\n",
       "        text-align: right;\n",
       "    }\n",
       "</style>\n",
       "<table border=\"1\" class=\"dataframe\">\n",
       "  <thead>\n",
       "    <tr style=\"text-align: right;\">\n",
       "      <th></th>\n",
       "      <th>ISO3</th>\n",
       "      <th>CountryName</th>\n",
       "      <th>Year</th>\n",
       "      <th>CityReverseGeocoded</th>\n",
       "      <th>Longitude</th>\n",
       "      <th>Latitude</th>\n",
       "      <th>PM25</th>\n",
       "      <th>MonitorType</th>\n",
       "      <th>SDG2Region</th>\n",
       "      <th>is_urban</th>\n",
       "      <th>country</th>\n",
       "    </tr>\n",
       "  </thead>\n",
       "  <tbody>\n",
       "    <tr>\n",
       "      <th>0</th>\n",
       "      <td>AFG</td>\n",
       "      <td>Afghanistan</td>\n",
       "      <td>2019</td>\n",
       "      <td>Kabul</td>\n",
       "      <td>69.190510</td>\n",
       "      <td>34.535810</td>\n",
       "      <td>119.773600</td>\n",
       "      <td>Unknown</td>\n",
       "      <td>Southern Asia</td>\n",
       "      <td>0</td>\n",
       "      <td>1</td>\n",
       "    </tr>\n",
       "    <tr>\n",
       "      <th>1</th>\n",
       "      <td>ALB</td>\n",
       "      <td>Albania</td>\n",
       "      <td>2016</td>\n",
       "      <td>DurrÃ«s</td>\n",
       "      <td>19.449200</td>\n",
       "      <td>41.319900</td>\n",
       "      <td>14.323250</td>\n",
       "      <td>Traffic</td>\n",
       "      <td>Europe</td>\n",
       "      <td>0</td>\n",
       "      <td>2</td>\n",
       "    </tr>\n",
       "    <tr>\n",
       "      <th>2</th>\n",
       "      <td>ALB</td>\n",
       "      <td>Albania</td>\n",
       "      <td>2019</td>\n",
       "      <td>VlorÃ«</td>\n",
       "      <td>19.486200</td>\n",
       "      <td>40.403090</td>\n",
       "      <td>10.315249</td>\n",
       "      <td>Background</td>\n",
       "      <td>Europe</td>\n",
       "      <td>0</td>\n",
       "      <td>2</td>\n",
       "    </tr>\n",
       "    <tr>\n",
       "      <th>3</th>\n",
       "      <td>ALB</td>\n",
       "      <td>Albania</td>\n",
       "      <td>2016</td>\n",
       "      <td>KorÃ§Ã«</td>\n",
       "      <td>20.780180</td>\n",
       "      <td>40.625930</td>\n",
       "      <td>28.640652</td>\n",
       "      <td>Background</td>\n",
       "      <td>Europe</td>\n",
       "      <td>0</td>\n",
       "      <td>2</td>\n",
       "    </tr>\n",
       "    <tr>\n",
       "      <th>4</th>\n",
       "      <td>AND</td>\n",
       "      <td>Andorra</td>\n",
       "      <td>2017</td>\n",
       "      <td>Les Escaldes</td>\n",
       "      <td>1.539138</td>\n",
       "      <td>42.509694</td>\n",
       "      <td>10.300000</td>\n",
       "      <td>Unknown</td>\n",
       "      <td>Europe</td>\n",
       "      <td>0</td>\n",
       "      <td>3</td>\n",
       "    </tr>\n",
       "    <tr>\n",
       "      <th>...</th>\n",
       "      <td>...</td>\n",
       "      <td>...</td>\n",
       "      <td>...</td>\n",
       "      <td>...</td>\n",
       "      <td>...</td>\n",
       "      <td>...</td>\n",
       "      <td>...</td>\n",
       "      <td>...</td>\n",
       "      <td>...</td>\n",
       "      <td>...</td>\n",
       "      <td>...</td>\n",
       "    </tr>\n",
       "    <tr>\n",
       "      <th>6490</th>\n",
       "      <td>ZAF</td>\n",
       "      <td>South Africa</td>\n",
       "      <td>2021</td>\n",
       "      <td>Embalenhle</td>\n",
       "      <td>29.112220</td>\n",
       "      <td>-26.551390</td>\n",
       "      <td>16.673530</td>\n",
       "      <td>Industrial</td>\n",
       "      <td>Sub-Saharan Africa</td>\n",
       "      <td>1</td>\n",
       "      <td>99</td>\n",
       "    </tr>\n",
       "    <tr>\n",
       "      <th>6491</th>\n",
       "      <td>ZAF</td>\n",
       "      <td>South Africa</td>\n",
       "      <td>2021</td>\n",
       "      <td>Secunda</td>\n",
       "      <td>29.189720</td>\n",
       "      <td>-26.523610</td>\n",
       "      <td>21.289610</td>\n",
       "      <td>Urban</td>\n",
       "      <td>Sub-Saharan Africa</td>\n",
       "      <td>1</td>\n",
       "      <td>99</td>\n",
       "    </tr>\n",
       "    <tr>\n",
       "      <th>6492</th>\n",
       "      <td>ZAF</td>\n",
       "      <td>South Africa</td>\n",
       "      <td>2018</td>\n",
       "      <td>Secunda</td>\n",
       "      <td>29.210830</td>\n",
       "      <td>-26.605560</td>\n",
       "      <td>19.273150</td>\n",
       "      <td>Industrial</td>\n",
       "      <td>Sub-Saharan Africa</td>\n",
       "      <td>1</td>\n",
       "      <td>99</td>\n",
       "    </tr>\n",
       "    <tr>\n",
       "      <th>6493</th>\n",
       "      <td>ZAF</td>\n",
       "      <td>South Africa</td>\n",
       "      <td>2019</td>\n",
       "      <td>Standerton</td>\n",
       "      <td>29.223470</td>\n",
       "      <td>-26.964080</td>\n",
       "      <td>27.106370</td>\n",
       "      <td>Residential</td>\n",
       "      <td>Sub-Saharan Africa</td>\n",
       "      <td>0</td>\n",
       "      <td>99</td>\n",
       "    </tr>\n",
       "    <tr>\n",
       "      <th>6494</th>\n",
       "      <td>ZAF</td>\n",
       "      <td>South Africa</td>\n",
       "      <td>2016</td>\n",
       "      <td>Emalahleni</td>\n",
       "      <td>29.241630</td>\n",
       "      <td>-25.922250</td>\n",
       "      <td>22.966600</td>\n",
       "      <td>Residential</td>\n",
       "      <td>Sub-Saharan Africa</td>\n",
       "      <td>0</td>\n",
       "      <td>99</td>\n",
       "    </tr>\n",
       "  </tbody>\n",
       "</table>\n",
       "<p>6495 rows × 11 columns</p>\n",
       "</div>"
      ],
      "text/plain": [
       "     ISO3   CountryName  Year CityReverseGeocoded  Longitude   Latitude  \\\n",
       "0     AFG   Afghanistan  2019               Kabul  69.190510  34.535810   \n",
       "1     ALB       Albania  2016             DurrÃ«s  19.449200  41.319900   \n",
       "2     ALB       Albania  2019              VlorÃ«  19.486200  40.403090   \n",
       "3     ALB       Albania  2016             KorÃ§Ã«  20.780180  40.625930   \n",
       "4     AND       Andorra  2017        Les Escaldes   1.539138  42.509694   \n",
       "...   ...           ...   ...                 ...        ...        ...   \n",
       "6490  ZAF  South Africa  2021          Embalenhle  29.112220 -26.551390   \n",
       "6491  ZAF  South Africa  2021             Secunda  29.189720 -26.523610   \n",
       "6492  ZAF  South Africa  2018             Secunda  29.210830 -26.605560   \n",
       "6493  ZAF  South Africa  2019          Standerton  29.223470 -26.964080   \n",
       "6494  ZAF  South Africa  2016          Emalahleni  29.241630 -25.922250   \n",
       "\n",
       "            PM25  MonitorType          SDG2Region  is_urban  country  \n",
       "0     119.773600      Unknown       Southern Asia         0        1  \n",
       "1      14.323250      Traffic              Europe         0        2  \n",
       "2      10.315249   Background              Europe         0        2  \n",
       "3      28.640652   Background              Europe         0        2  \n",
       "4      10.300000      Unknown              Europe         0        3  \n",
       "...          ...          ...                 ...       ...      ...  \n",
       "6490   16.673530   Industrial  Sub-Saharan Africa         1       99  \n",
       "6491   21.289610        Urban  Sub-Saharan Africa         1       99  \n",
       "6492   19.273150   Industrial  Sub-Saharan Africa         1       99  \n",
       "6493   27.106370  Residential  Sub-Saharan Africa         0       99  \n",
       "6494   22.966600  Residential  Sub-Saharan Africa         0       99  \n",
       "\n",
       "[6495 rows x 11 columns]"
      ]
     },
     "execution_count": 24,
     "metadata": {},
     "output_type": "execute_result"
    }
   ],
   "source": [
    "world"
   ]
  },
  {
   "cell_type": "code",
   "execution_count": 29,
   "id": "0b4d6bc6-5b4a-4905-bdf5-0d6134217a0c",
   "metadata": {},
   "outputs": [],
   "source": [
    "import csv\n",
    "world.to_csv('world_pm25.csv', \n",
    "             columns=['Year', 'CityReverseGeocoded', 'Longitude', 'Latitude', \n",
    "                      'PM25', 'is_urban', 'country'], \n",
    "                     quoting=csv.QUOTE_NONNUMERIC, index=False)"
   ]
  },
  {
   "cell_type": "code",
   "execution_count": 26,
   "id": "c124a90f-3728-4bca-b1f9-5ecc2c6143df",
   "metadata": {},
   "outputs": [
    {
     "data": {
      "text/plain": [
       "(1865, 11)"
      ]
     },
     "execution_count": 26,
     "metadata": {},
     "output_type": "execute_result"
    }
   ],
   "source": [
    "euro_slice = world[world['SDG2Region'] == 'Europe']\n",
    "euro_slice.shape"
   ]
  },
  {
   "cell_type": "code",
   "execution_count": 27,
   "id": "b7b19481-fef7-4707-a6b4-dcf919968bc6",
   "metadata": {},
   "outputs": [
    {
     "data": {
      "text/html": [
       "<div>\n",
       "<style scoped>\n",
       "    .dataframe tbody tr th:only-of-type {\n",
       "        vertical-align: middle;\n",
       "    }\n",
       "\n",
       "    .dataframe tbody tr th {\n",
       "        vertical-align: top;\n",
       "    }\n",
       "\n",
       "    .dataframe thead th {\n",
       "        text-align: right;\n",
       "    }\n",
       "</style>\n",
       "<table border=\"1\" class=\"dataframe\">\n",
       "  <thead>\n",
       "    <tr style=\"text-align: right;\">\n",
       "      <th></th>\n",
       "      <th>ISO3</th>\n",
       "      <th>CountryName</th>\n",
       "      <th>Year</th>\n",
       "      <th>CityReverseGeocoded</th>\n",
       "      <th>Longitude</th>\n",
       "      <th>Latitude</th>\n",
       "      <th>PM25</th>\n",
       "      <th>MonitorType</th>\n",
       "      <th>SDG2Region</th>\n",
       "      <th>is_urban</th>\n",
       "      <th>country</th>\n",
       "    </tr>\n",
       "  </thead>\n",
       "  <tbody>\n",
       "    <tr>\n",
       "      <th>0</th>\n",
       "      <td>ALB</td>\n",
       "      <td>Albania</td>\n",
       "      <td>2016</td>\n",
       "      <td>DurrÃ«s</td>\n",
       "      <td>19.449200</td>\n",
       "      <td>41.319900</td>\n",
       "      <td>14.323250</td>\n",
       "      <td>Traffic</td>\n",
       "      <td>Europe</td>\n",
       "      <td>0</td>\n",
       "      <td>1</td>\n",
       "    </tr>\n",
       "    <tr>\n",
       "      <th>1</th>\n",
       "      <td>ALB</td>\n",
       "      <td>Albania</td>\n",
       "      <td>2019</td>\n",
       "      <td>VlorÃ«</td>\n",
       "      <td>19.486200</td>\n",
       "      <td>40.403090</td>\n",
       "      <td>10.315249</td>\n",
       "      <td>Background</td>\n",
       "      <td>Europe</td>\n",
       "      <td>0</td>\n",
       "      <td>1</td>\n",
       "    </tr>\n",
       "    <tr>\n",
       "      <th>2</th>\n",
       "      <td>ALB</td>\n",
       "      <td>Albania</td>\n",
       "      <td>2016</td>\n",
       "      <td>KorÃ§Ã«</td>\n",
       "      <td>20.780180</td>\n",
       "      <td>40.625930</td>\n",
       "      <td>28.640652</td>\n",
       "      <td>Background</td>\n",
       "      <td>Europe</td>\n",
       "      <td>0</td>\n",
       "      <td>1</td>\n",
       "    </tr>\n",
       "    <tr>\n",
       "      <th>3</th>\n",
       "      <td>AND</td>\n",
       "      <td>Andorra</td>\n",
       "      <td>2017</td>\n",
       "      <td>Les Escaldes</td>\n",
       "      <td>1.539138</td>\n",
       "      <td>42.509694</td>\n",
       "      <td>10.300000</td>\n",
       "      <td>Unknown</td>\n",
       "      <td>Europe</td>\n",
       "      <td>0</td>\n",
       "      <td>2</td>\n",
       "    </tr>\n",
       "    <tr>\n",
       "      <th>4</th>\n",
       "      <td>AUT</td>\n",
       "      <td>Austria</td>\n",
       "      <td>2019</td>\n",
       "      <td>Sankt Michael</td>\n",
       "      <td>14.574722</td>\n",
       "      <td>48.531111</td>\n",
       "      <td>7.248565</td>\n",
       "      <td>Background</td>\n",
       "      <td>Europe</td>\n",
       "      <td>0</td>\n",
       "      <td>3</td>\n",
       "    </tr>\n",
       "    <tr>\n",
       "      <th>...</th>\n",
       "      <td>...</td>\n",
       "      <td>...</td>\n",
       "      <td>...</td>\n",
       "      <td>...</td>\n",
       "      <td>...</td>\n",
       "      <td>...</td>\n",
       "      <td>...</td>\n",
       "      <td>...</td>\n",
       "      <td>...</td>\n",
       "      <td>...</td>\n",
       "      <td>...</td>\n",
       "    </tr>\n",
       "    <tr>\n",
       "      <th>1860</th>\n",
       "      <td>XKO</td>\n",
       "      <td>Kosovo (under UNSCR 1244/99)</td>\n",
       "      <td>2019</td>\n",
       "      <td>NaN</td>\n",
       "      <td>20.532700</td>\n",
       "      <td>42.373100</td>\n",
       "      <td>16.468140</td>\n",
       "      <td>Background</td>\n",
       "      <td>Europe</td>\n",
       "      <td>0</td>\n",
       "      <td>39</td>\n",
       "    </tr>\n",
       "    <tr>\n",
       "      <th>1861</th>\n",
       "      <td>XKO</td>\n",
       "      <td>Kosovo (under UNSCR 1244/99)</td>\n",
       "      <td>2019</td>\n",
       "      <td>Prizren</td>\n",
       "      <td>20.741500</td>\n",
       "      <td>42.215800</td>\n",
       "      <td>22.627710</td>\n",
       "      <td>Background</td>\n",
       "      <td>Europe</td>\n",
       "      <td>0</td>\n",
       "      <td>39</td>\n",
       "    </tr>\n",
       "    <tr>\n",
       "      <th>1862</th>\n",
       "      <td>XKO</td>\n",
       "      <td>Kosovo (under UNSCR 1244/99)</td>\n",
       "      <td>2019</td>\n",
       "      <td>Muhaxher</td>\n",
       "      <td>21.092640</td>\n",
       "      <td>42.393470</td>\n",
       "      <td>16.436100</td>\n",
       "      <td>Background</td>\n",
       "      <td>Europe</td>\n",
       "      <td>0</td>\n",
       "      <td>39</td>\n",
       "    </tr>\n",
       "    <tr>\n",
       "      <th>1863</th>\n",
       "      <td>XKO</td>\n",
       "      <td>Kosovo (under UNSCR 1244/99)</td>\n",
       "      <td>2019</td>\n",
       "      <td>StagovÃ«</td>\n",
       "      <td>21.273800</td>\n",
       "      <td>42.284000</td>\n",
       "      <td>20.366410</td>\n",
       "      <td>Background</td>\n",
       "      <td>Europe</td>\n",
       "      <td>0</td>\n",
       "      <td>39</td>\n",
       "    </tr>\n",
       "    <tr>\n",
       "      <th>1864</th>\n",
       "      <td>XKO</td>\n",
       "      <td>Kosovo (under UNSCR 1244/99)</td>\n",
       "      <td>2019</td>\n",
       "      <td>Hani i Elezit</td>\n",
       "      <td>21.290110</td>\n",
       "      <td>42.153960</td>\n",
       "      <td>16.436940</td>\n",
       "      <td>Background</td>\n",
       "      <td>Europe</td>\n",
       "      <td>0</td>\n",
       "      <td>39</td>\n",
       "    </tr>\n",
       "  </tbody>\n",
       "</table>\n",
       "<p>1865 rows × 11 columns</p>\n",
       "</div>"
      ],
      "text/plain": [
       "     ISO3                   CountryName  Year CityReverseGeocoded  Longitude  \\\n",
       "0     ALB                       Albania  2016             DurrÃ«s  19.449200   \n",
       "1     ALB                       Albania  2019              VlorÃ«  19.486200   \n",
       "2     ALB                       Albania  2016             KorÃ§Ã«  20.780180   \n",
       "3     AND                       Andorra  2017        Les Escaldes   1.539138   \n",
       "4     AUT                       Austria  2019       Sankt Michael  14.574722   \n",
       "...   ...                           ...   ...                 ...        ...   \n",
       "1860  XKO  Kosovo (under UNSCR 1244/99)  2019                 NaN  20.532700   \n",
       "1861  XKO  Kosovo (under UNSCR 1244/99)  2019             Prizren  20.741500   \n",
       "1862  XKO  Kosovo (under UNSCR 1244/99)  2019            Muhaxher  21.092640   \n",
       "1863  XKO  Kosovo (under UNSCR 1244/99)  2019            StagovÃ«  21.273800   \n",
       "1864  XKO  Kosovo (under UNSCR 1244/99)  2019       Hani i Elezit  21.290110   \n",
       "\n",
       "       Latitude       PM25 MonitorType SDG2Region  is_urban  country  \n",
       "0     41.319900  14.323250     Traffic     Europe         0        1  \n",
       "1     40.403090  10.315249  Background     Europe         0        1  \n",
       "2     40.625930  28.640652  Background     Europe         0        1  \n",
       "3     42.509694  10.300000     Unknown     Europe         0        2  \n",
       "4     48.531111   7.248565  Background     Europe         0        3  \n",
       "...         ...        ...         ...        ...       ...      ...  \n",
       "1860  42.373100  16.468140  Background     Europe         0       39  \n",
       "1861  42.215800  22.627710  Background     Europe         0       39  \n",
       "1862  42.393470  16.436100  Background     Europe         0       39  \n",
       "1863  42.284000  20.366410  Background     Europe         0       39  \n",
       "1864  42.153960  16.436940  Background     Europe         0       39  \n",
       "\n",
       "[1865 rows x 11 columns]"
      ]
     },
     "execution_count": 27,
     "metadata": {},
     "output_type": "execute_result"
    }
   ],
   "source": [
    "euro = euro_slice.copy(deep=True).reset_index(drop=True)\n",
    "euro['country'] = euro['ISO3'].astype('category').cat.codes + 1\n",
    "euro"
   ]
  },
  {
   "cell_type": "code",
   "execution_count": 30,
   "id": "892d075d-7f1e-4f01-b196-fb7d286272b8",
   "metadata": {},
   "outputs": [],
   "source": [
    "euro.to_csv('euro_pm25.csv', \n",
    "             columns=['Year', 'CountryName', 'CityReverseGeocoded', 'Longitude', 'Latitude',\n",
    "                      'PM25', 'is_urban', 'country'],\n",
    "                     quoting=csv.QUOTE_NONNUMERIC, index=False)"
   ]
  },
  {
   "cell_type": "code",
   "execution_count": null,
   "id": "358d2407-9e77-4abe-b2cd-b5dfc962754f",
   "metadata": {},
   "outputs": [],
   "source": [
    "na_slice = world[world['ISO3'].isin(['CAN','USA','MEX'])]\n",
    "north_america = na_slice.copy(deep=True).reset_index(drop=True)\n",
    "north_america['country'] = north_america['ISO3'].astype('category').cat.codes + 1"
   ]
  },
  {
   "cell_type": "code",
   "execution_count": null,
   "id": "b8f87d5e-fcad-46d7-80c9-9a2d7933f615",
   "metadata": {},
   "outputs": [],
   "source": [
    "north_america.head(3)"
   ]
  },
  {
   "cell_type": "code",
   "execution_count": null,
   "id": "2bd6657f-7508-4e52-bbcc-86104d25c8f9",
   "metadata": {},
   "outputs": [],
   "source": [
    "north_america.tail(3)"
   ]
  },
  {
   "cell_type": "code",
   "execution_count": null,
   "id": "aa5dff72-477d-4dc0-a8c7-f7fcce5fb134",
   "metadata": {},
   "outputs": [],
   "source": [
    "north_america.shape"
   ]
  },
  {
   "cell_type": "code",
   "execution_count": null,
   "id": "bab733a7-b7e0-44f2-9b19-1fef892c7293",
   "metadata": {},
   "outputs": [],
   "source": [
    "north_america.to_csv('north_america_pm25.csv', \n",
    "             columns=['Year', 'CityReverseGeocoded', 'Longitude', 'Latitude', \n",
    "                      'PM25', 'is_urban', 'country'], \n",
    "                     quoting=csv.QUOTE_NONNUMERIC, index=False)"
   ]
  }
 ],
 "metadata": {
  "kernelspec": {
   "display_name": "Python 3 (ipykernel)",
   "language": "python",
   "name": "python3"
  },
  "language_info": {
   "codemirror_mode": {
    "name": "ipython",
    "version": 3
   },
   "file_extension": ".py",
   "mimetype": "text/x-python",
   "name": "python",
   "nbconvert_exporter": "python",
   "pygments_lexer": "ipython3",
   "version": "3.12.2"
  }
 },
 "nbformat": 4,
 "nbformat_minor": 5
}
